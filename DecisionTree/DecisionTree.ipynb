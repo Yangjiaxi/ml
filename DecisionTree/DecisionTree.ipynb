{
 "cells": [
  {
   "cell_type": "code",
   "execution_count": 337,
   "metadata": {},
   "outputs": [],
   "source": [
    "import numpy as np\n",
    "from math import log\n",
    "import operator\n",
    "from collections import Counter"
   ]
  },
  {
   "cell_type": "code",
   "execution_count": 338,
   "metadata": {},
   "outputs": [],
   "source": [
    "input_file = open(\"lenses.txt\")"
   ]
  },
  {
   "cell_type": "code",
   "execution_count": 339,
   "metadata": {},
   "outputs": [],
   "source": [
    "lenses = [inst.strip().split('\\t') for inst in input_file.readlines()]"
   ]
  },
  {
   "cell_type": "code",
   "execution_count": 340,
   "metadata": {},
   "outputs": [
    {
     "data": {
      "text/plain": [
       "(24, 5)"
      ]
     },
     "execution_count": 340,
     "metadata": {},
     "output_type": "execute_result"
    }
   ],
   "source": [
    "np.array(lenses).shape"
   ]
  },
  {
   "cell_type": "code",
   "execution_count": 341,
   "metadata": {},
   "outputs": [],
   "source": [
    "lensesLabels = [\"age\", \"prescript\", \"astigmatic\", \"tearRate\"]"
   ]
  },
  {
   "cell_type": "code",
   "execution_count": 342,
   "metadata": {},
   "outputs": [],
   "source": [
    "def calc_ent(data):\n",
    "    data_size = data.shape[0]\n",
    "    labels = Counter(data[:,-1])  \n",
    "    shannon_ent = 0.0  \n",
    "    values = np.array(list(labels.values()))\n",
    "    values_prob = values / values.sum()\n",
    "    ent = -(values_prob * np.log2(values_prob)).sum()\n",
    "    return ent"
   ]
  },
  {
   "cell_type": "code",
   "execution_count": 343,
   "metadata": {},
   "outputs": [],
   "source": [
    "def splitDataSet(data, axis, value):\n",
    "    data_f = data[data[:, axis]==value]\n",
    "    data_r = np.delete(data_f, axis, 1)\n",
    "    return data_r"
   ]
  },
  {
   "cell_type": "code",
   "execution_count": 344,
   "metadata": {},
   "outputs": [],
   "source": [
    "def chooseBestFeatureToSplit(data):\n",
    "    feat_size = data.shape[1] - 1\n",
    "    baseEntropy = calc_ent(data)  \n",
    "    bestInfoGain = 0.0 \n",
    "    bestFeature = -1 \n",
    "    for i in range(feat_size):\n",
    "        uniqueVals = set(data[:, i])  \n",
    "        newEntropy = 0.0  \n",
    "        for value in uniqueVals:\n",
    "            subDataSet = splitDataSet(data, i, value)\n",
    "            prob = subDataSet.shape[0] * 1.0 / data.shape[0] \n",
    "            newEntropy += prob * calc_ent(subDataSet)  \n",
    "        infoGain = baseEntropy - newEntropy  \n",
    "        if (infoGain > bestInfoGain):\n",
    "            bestInfoGain = infoGain  \n",
    "            bestFeature = i  \n",
    "    return bestFeature  "
   ]
  },
  {
   "cell_type": "code",
   "execution_count": 345,
   "metadata": {},
   "outputs": [],
   "source": [
    "def majorityCnt(classList):\n",
    "    return Counter(classList).most_common(1)[0][0]"
   ]
  },
  {
   "cell_type": "code",
   "execution_count": 346,
   "metadata": {},
   "outputs": [],
   "source": [
    "def createTree(data, labels_ori, depth):\n",
    "    labels = labels_ori[:]\n",
    "    classList = data[:, -1]\n",
    "    if Counter(classList)[classList[0]] == classList.shape[0]: \n",
    "        return classList[0]  \n",
    "    if data.shape[0] == 1: \n",
    "        return majorityCnt(classList) \n",
    "    bestFeat = chooseBestFeatureToSplit(data)  \n",
    "    bestFeatLabel = labels[bestFeat]\n",
    "    myTree = {bestFeatLabel: {}} \n",
    "    del (labels[bestFeat]) \n",
    "    featValues = data[:, bestFeat]\n",
    "    uniqueVals = set(featValues) \n",
    "    for value in uniqueVals: \n",
    "        subLabels = labels[:]\n",
    "        myTree[bestFeatLabel][value] = createTree(\n",
    "            splitDataSet(data, bestFeat, value), subLabels, depth+1)\n",
    "    return myTree"
   ]
  },
  {
   "cell_type": "code",
   "execution_count": 347,
   "metadata": {},
   "outputs": [],
   "source": [
    "lenseTree = createTree(data_l, lensesLabels, 0)"
   ]
  },
  {
   "cell_type": "code",
   "execution_count": 348,
   "metadata": {},
   "outputs": [
    {
     "data": {
      "text/plain": [
       "{'tearRate': {'normal': {'astigmatic': {'no': {'age': {'pre': 'soft',\n",
       "      'presbyopic': {'prescript': {'hyper': 'soft', 'myope': 'no lenses'}},\n",
       "      'young': 'soft'}},\n",
       "    'yes': {'prescript': {'hyper': {'age': {'pre': 'no lenses',\n",
       "        'presbyopic': 'no lenses',\n",
       "        'young': 'hard'}},\n",
       "      'myope': 'hard'}}}},\n",
       "  'reduced': 'no lenses'}}"
      ]
     },
     "execution_count": 348,
     "metadata": {},
     "output_type": "execute_result"
    }
   ],
   "source": [
    "lenseTree"
   ]
  },
  {
   "cell_type": "code",
   "execution_count": null,
   "metadata": {},
   "outputs": [],
   "source": []
  }
 ],
 "metadata": {
  "kernelspec": {
   "display_name": "Python 3",
   "language": "python",
   "name": "python3"
  },
  "language_info": {
   "codemirror_mode": {
    "name": "ipython",
    "version": 3
   },
   "file_extension": ".py",
   "mimetype": "text/x-python",
   "name": "python",
   "nbconvert_exporter": "python",
   "pygments_lexer": "ipython3",
   "version": "3.6.4"
  }
 },
 "nbformat": 4,
 "nbformat_minor": 2
}
