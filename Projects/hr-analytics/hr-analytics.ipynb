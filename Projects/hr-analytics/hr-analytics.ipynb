{
 "cells": [
  {
   "cell_type": "code",
   "execution_count": 15,
   "metadata": {},
   "outputs": [],
   "source": [
    "import numpy as np\n",
    "import pandas as pd\n",
    "from collections import Counter"
   ]
  },
  {
   "cell_type": "code",
   "execution_count": 2,
   "metadata": {},
   "outputs": [],
   "source": [
    "data_ori = pd.read_csv(\"hr-analytics.csv\")"
   ]
  },
  {
   "cell_type": "code",
   "execution_count": 3,
   "metadata": {},
   "outputs": [
    {
     "data": {
      "text/html": [
       "<div>\n",
       "<style scoped>\n",
       "    .dataframe tbody tr th:only-of-type {\n",
       "        vertical-align: middle;\n",
       "    }\n",
       "\n",
       "    .dataframe tbody tr th {\n",
       "        vertical-align: top;\n",
       "    }\n",
       "\n",
       "    .dataframe thead th {\n",
       "        text-align: right;\n",
       "    }\n",
       "</style>\n",
       "<table border=\"1\" class=\"dataframe\">\n",
       "  <thead>\n",
       "    <tr style=\"text-align: right;\">\n",
       "      <th></th>\n",
       "      <th>name</th>\n",
       "      <th>satisfaction_level</th>\n",
       "      <th>last_evaluation</th>\n",
       "      <th>number_projects</th>\n",
       "      <th>average_monthly_hours</th>\n",
       "      <th>time_spent_company</th>\n",
       "      <th>work_accident</th>\n",
       "      <th>left</th>\n",
       "      <th>promotion_last_5_years</th>\n",
       "      <th>department</th>\n",
       "      <th>salary</th>\n",
       "      <th>salary_level</th>\n",
       "    </tr>\n",
       "  </thead>\n",
       "  <tbody>\n",
       "    <tr>\n",
       "      <th>0</th>\n",
       "      <td>SMITH</td>\n",
       "      <td>0.38</td>\n",
       "      <td>0.53</td>\n",
       "      <td>2</td>\n",
       "      <td>157</td>\n",
       "      <td>3</td>\n",
       "      <td>0</td>\n",
       "      <td>1</td>\n",
       "      <td>0</td>\n",
       "      <td>sales</td>\n",
       "      <td>low</td>\n",
       "      <td>1</td>\n",
       "    </tr>\n",
       "    <tr>\n",
       "      <th>1</th>\n",
       "      <td>JOHNSON</td>\n",
       "      <td>0.80</td>\n",
       "      <td>0.86</td>\n",
       "      <td>5</td>\n",
       "      <td>262</td>\n",
       "      <td>6</td>\n",
       "      <td>0</td>\n",
       "      <td>1</td>\n",
       "      <td>0</td>\n",
       "      <td>sales</td>\n",
       "      <td>medium</td>\n",
       "      <td>2</td>\n",
       "    </tr>\n",
       "    <tr>\n",
       "      <th>2</th>\n",
       "      <td>WILLIAMS</td>\n",
       "      <td>0.11</td>\n",
       "      <td>0.88</td>\n",
       "      <td>7</td>\n",
       "      <td>272</td>\n",
       "      <td>4</td>\n",
       "      <td>0</td>\n",
       "      <td>1</td>\n",
       "      <td>0</td>\n",
       "      <td>sales</td>\n",
       "      <td>medium</td>\n",
       "      <td>2</td>\n",
       "    </tr>\n",
       "    <tr>\n",
       "      <th>3</th>\n",
       "      <td>BROWN</td>\n",
       "      <td>0.72</td>\n",
       "      <td>0.87</td>\n",
       "      <td>5</td>\n",
       "      <td>223</td>\n",
       "      <td>5</td>\n",
       "      <td>0</td>\n",
       "      <td>1</td>\n",
       "      <td>0</td>\n",
       "      <td>sales</td>\n",
       "      <td>low</td>\n",
       "      <td>1</td>\n",
       "    </tr>\n",
       "    <tr>\n",
       "      <th>4</th>\n",
       "      <td>JONES</td>\n",
       "      <td>0.37</td>\n",
       "      <td>0.52</td>\n",
       "      <td>2</td>\n",
       "      <td>159</td>\n",
       "      <td>3</td>\n",
       "      <td>0</td>\n",
       "      <td>1</td>\n",
       "      <td>0</td>\n",
       "      <td>sales</td>\n",
       "      <td>low</td>\n",
       "      <td>1</td>\n",
       "    </tr>\n",
       "  </tbody>\n",
       "</table>\n",
       "</div>"
      ],
      "text/plain": [
       "       name  satisfaction_level  last_evaluation  number_projects  \\\n",
       "0     SMITH                0.38             0.53                2   \n",
       "1   JOHNSON                0.80             0.86                5   \n",
       "2  WILLIAMS                0.11             0.88                7   \n",
       "3     BROWN                0.72             0.87                5   \n",
       "4     JONES                0.37             0.52                2   \n",
       "\n",
       "   average_monthly_hours  time_spent_company  work_accident  left  \\\n",
       "0                    157                   3              0     1   \n",
       "1                    262                   6              0     1   \n",
       "2                    272                   4              0     1   \n",
       "3                    223                   5              0     1   \n",
       "4                    159                   3              0     1   \n",
       "\n",
       "   promotion_last_5_years department  salary  salary_level  \n",
       "0                       0      sales     low             1  \n",
       "1                       0      sales  medium             2  \n",
       "2                       0      sales  medium             2  \n",
       "3                       0      sales     low             1  \n",
       "4                       0      sales     low             1  "
      ]
     },
     "execution_count": 3,
     "metadata": {},
     "output_type": "execute_result"
    }
   ],
   "source": [
    "data_ori.head()"
   ]
  },
  {
   "cell_type": "code",
   "execution_count": 4,
   "metadata": {},
   "outputs": [],
   "source": [
    "data = data_ori.copy()"
   ]
  },
  {
   "cell_type": "code",
   "execution_count": 5,
   "metadata": {},
   "outputs": [],
   "source": [
    "data_dptmt = list(set(data_ori['department']))"
   ]
  },
  {
   "cell_type": "code",
   "execution_count": 6,
   "metadata": {},
   "outputs": [],
   "source": [
    "data_dptmt_dict = {}\n",
    "code = 0\n",
    "for dptmt in data_dptmt:\n",
    "    data_dptmt_dict[dptmt] = code\n",
    "    code += 1"
   ]
  },
  {
   "cell_type": "code",
   "execution_count": 7,
   "metadata": {},
   "outputs": [
    {
     "data": {
      "text/plain": [
       "{'IT': 8,\n",
       " 'RandD': 2,\n",
       " 'accounting': 3,\n",
       " 'hr': 4,\n",
       " 'management': 7,\n",
       " 'marketing': 9,\n",
       " 'product_mng': 6,\n",
       " 'sales': 1,\n",
       " 'support': 5,\n",
       " 'technical': 0}"
      ]
     },
     "execution_count": 7,
     "metadata": {},
     "output_type": "execute_result"
    }
   ],
   "source": [
    "data_dptmt_dict"
   ]
  },
  {
   "cell_type": "code",
   "execution_count": 8,
   "metadata": {},
   "outputs": [],
   "source": [
    "data = data_ori.drop(['salary', 'left', 'name'], axis=1, inplace=False)\n",
    "data['department'] = data_ori['department'].map(data_dptmt_dict)\n",
    "label = data_ori['left']\n",
    "name = data_ori['name']\n",
    "data_label = pd.DataFrame(name).join(label)"
   ]
  },
  {
   "cell_type": "code",
   "execution_count": 9,
   "metadata": {},
   "outputs": [],
   "source": [
    "def k_shape(split_list):\n",
    "    k_l = []\n",
    "    for i in range(len(split_list)):\n",
    "        k_l.append(len(split_list[i]))\n",
    "    return k_l"
   ]
  },
  {
   "cell_type": "code",
   "execution_count": 10,
   "metadata": {},
   "outputs": [],
   "source": [
    "def k_means(data_set, k, norm=2):\n",
    "    m = data_set.shape[0]\n",
    "    mean_vector = data_set[np.random.choice(m, k, replace=False)]\n",
    "    Flag = True\n",
    "    while Flag:\n",
    "        C = []\n",
    "        for i in range(k):\n",
    "            C.append([])\n",
    "        for j in range(m):\n",
    "            dj = ((np.abs((data_set[j] - mean_vector)\n",
    "                          ** norm).sum(axis=1)) ** (1 / norm)).argmin()\n",
    "            C[dj].append(data_set[j].tolist())\n",
    "        mean_prev = mean_vector.copy()\n",
    "        for i in range(k):\n",
    "            mean_vector[i] = np.array(C[i]).mean(axis=0).tolist()\n",
    "        mean_delta = np.min(np.abs(mean_prev - mean_vector))\n",
    "        if mean_delta == 0.0:\n",
    "            Flag = False\n",
    "    return C"
   ]
  },
  {
   "cell_type": "code",
   "execution_count": 11,
   "metadata": {},
   "outputs": [],
   "source": [
    "def data_prefix(data_set):\n",
    "    mean = data_set.mean(axis=1).reshape((-1, 1))\n",
    "    std = data_set.var(axis=1).reshape((-1, 1))\n",
    "    return (data_set - mean) / std"
   ]
  },
  {
   "cell_type": "code",
   "execution_count": 14,
   "metadata": {},
   "outputs": [],
   "source": [
    "data_n = data_prefix(np.array(data))"
   ]
  },
  {
   "cell_type": "code",
   "execution_count": 12,
   "metadata": {},
   "outputs": [],
   "source": [
    "def run(data):\n",
    "    data_n = data_prefix(np.array(data))\n",
    "    res = k_means(data_n, 2, norm=2)\n",
    "    k_res = []\n",
    "    for i in range(2):\n",
    "        i_res = []\n",
    "        for j in range(len(res[i])):\n",
    "            i_res.append(np.where(data_n== np.array(res[i][j]))[0][0])\n",
    "        k_res.append(i_res)\n",
    "    if len(k_res[0]) > len(k_res[1]):\n",
    "        pred_0 = np.array(k_res[0])\n",
    "        pred_1 = np.array(k_res[1])\n",
    "    else:\n",
    "        pred_0 = np.array(k_res[1])\n",
    "        pred_1 = np.array(k_res[0])\n",
    "    real_0 = np.where(np.array(data_label['left']) == 0)[0]\n",
    "    real_1 = np.where(np.array(data_label['left']) == 1)[0]\n",
    "    s_r_0 = set(real_0.tolist())\n",
    "    s_r_1 = set(real_1.tolist())\n",
    "    p_r_0 = set(pred_0.tolist())\n",
    "    p_r_1 = set(pred_1.tolist())\n",
    "    pred_ok = (len(p_r_0) - len(p_r_0.difference(s_r_0))) + len(p_r_1) - (len(p_r_1.difference(s_r_1)))\n",
    "    print(pred_ok / data_n.shape[0])"
   ]
  },
  {
   "cell_type": "code",
   "execution_count": 13,
   "metadata": {},
   "outputs": [
    {
     "name": "stdout",
     "output_type": "stream",
     "text": [
      "0.480098673244883\n"
     ]
    }
   ],
   "source": [
    "run(data)"
   ]
  },
  {
   "cell_type": "code",
   "execution_count": null,
   "metadata": {},
   "outputs": [],
   "source": []
  }
 ],
 "metadata": {
  "kernelspec": {
   "display_name": "Python 3",
   "language": "python",
   "name": "python3"
  },
  "language_info": {
   "codemirror_mode": {
    "name": "ipython",
    "version": 3
   },
   "file_extension": ".py",
   "mimetype": "text/x-python",
   "name": "python",
   "nbconvert_exporter": "python",
   "pygments_lexer": "ipython3",
   "version": "3.6.8"
  }
 },
 "nbformat": 4,
 "nbformat_minor": 2
}
