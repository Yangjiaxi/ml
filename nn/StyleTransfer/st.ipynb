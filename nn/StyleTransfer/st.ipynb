{
 "cells": [
  {
   "cell_type": "code",
   "execution_count": null,
   "metadata": {},
   "outputs": [],
   "source": [
    "from __future__ import division\n",
    "from torchvision import models\n",
    "from torchvision import transforms\n",
    "from PIL import Image\n",
    "import argparse\n",
    "import torch\n",
    "import torchvision\n",
    "import torch.nn as nn\n",
    "import numpy as np"
   ]
  },
  {
   "cell_type": "code",
   "execution_count": null,
   "metadata": {},
   "outputs": [],
   "source": [
    "device = torch.device('cuda' if torch.cuda.is_available() else 'cpu')"
   ]
  },
  {
   "cell_type": "code",
   "execution_count": null,
   "metadata": {},
   "outputs": [],
   "source": [
    "def load_image(image_path, transform=None, max_size=None, shape=None):\n",
    "    image = Image.open(image_path)\n",
    "    \n",
    "    if max_size:\n",
    "        scale = max_size / max(image.size)\n",
    "        size = np.array(image.size) * scale\n",
    "        image = image.resize(size.astype(int), Image.ANTIALIAS)\n",
    "    \n",
    "    if shape:\n",
    "        image = image.resize(shape, Image.LANCZOS)\n",
    "    \n",
    "    if transform:\n",
    "        image = transform(image).unsqueeze(0)\n",
    "    \n",
    "    return image.to(device)"
   ]
  },
  {
   "cell_type": "code",
   "execution_count": null,
   "metadata": {},
   "outputs": [],
   "source": [
    "class VGGNet(nn.Module):\n",
    "    def __init__(self):\n",
    "        super(VGGNet, self).__init__()\n",
    "        self.select = ['0', '5', '10', '19', '28'] \n",
    "        self.vgg = models.vgg19(pretrained=True).features\n",
    "        \n",
    "    def forward(self, x):\n",
    "        features = []\n",
    "        for name, layer in self.vgg._modules.items():\n",
    "            if name in self.select:\n",
    "                x = layer(x)\n",
    "                features.append(x)\n",
    "        return features"
   ]
  },
  {
   "cell_type": "code",
   "execution_count": null,
   "metadata": {},
   "outputs": [],
   "source": [
    "def main(content, max_size, style, lr, total_step, content_weight, style_weight, log_step, sample_step):\n",
    "    \n",
    "    transform = transforms.Compose([transforms.ToTensor(),\n",
    "                                    transforms.Normalize(mean=(0.485, 0.456, 0.406), \n",
    "                                                         std=(0.229, 0.224, 0.225))])\n",
    "    print(\"Transformer loaded...\")\n",
    "    \n",
    "    content = load_image(content, transform, max_size=max_size)\n",
    "    style = load_image(style, transform, shape=[content.size(2), content.size(3)])\n",
    "    print(\"Image loaded...\")\n",
    "    \n",
    "    target = content.clone().requires_grad_(True)\n",
    "    # target = torch.randn(content.data.size(), device=device).requires_grad_(True)\n",
    "    \n",
    "    optimizer = torch.optim.Adam([target], lr=lr, betas=[0.5, 0.999])\n",
    "    # optimizer = torch.optim.SGD([target], lr=lr)\n",
    "    \n",
    "    vgg = VGGNet().to(device).eval()\n",
    "    print(\"Net loaded...\")\n",
    "    for step in range(total_step):\n",
    "        target_features = vgg(target)\n",
    "        content_features = vgg(content)\n",
    "        style_features = vgg(style)\n",
    "\n",
    "        style_loss = 0\n",
    "        content_loss = 0\n",
    "        for f1, f2, f3 in zip(target_features, content_features, style_features):\n",
    "            content_loss += torch.mean((f1 - f2)**2)\n",
    "\n",
    "            _, c, h, w = f1.size()\n",
    "            f1 = f1.view(c, h * w)\n",
    "            f3 = f3.view(c, h * w)\n",
    "\n",
    "            f1 = torch.mm(f1, f1.t())\n",
    "            f3 = torch.mm(f3, f3.t())\n",
    "\n",
    "            style_loss += torch.mean((f1 - f3)**2) / (c * h * w) \n",
    "        \n",
    "        loss = content_weight * content_loss + style_weight * style_loss \n",
    "        optimizer.zero_grad()\n",
    "        loss.backward()\n",
    "        optimizer.step()\n",
    "\n",
    "        if (step+1) % log_step == 0:\n",
    "            print ('Step [{.3f}/{:.3f}], Content Loss: {:.4f}, Style Loss: {:.4f}' \n",
    "                   .format(step+1, total_step, content_loss.item(), style_loss.item()))\n",
    "\n",
    "        if (step+1) % sample_step == 0:\n",
    "            denorm = transforms.Normalize((-2.12, -2.04, -1.80), (4.37, 4.46, 4.44))\n",
    "            img = target.clone().squeeze()\n",
    "            img = denorm(img).clamp_(0, 1)\n",
    "            torchvision.utils.save_image(img, 'output-{:04d}.png'.format(step+1))"
   ]
  },
  {
   "cell_type": "code",
   "execution_count": null,
   "metadata": {
    "scrolled": true
   },
   "outputs": [],
   "source": [
    "main(content='stata.jpg', \n",
    "     max_size=256, \n",
    "     style='udnie.jpg',\n",
    "     lr=1e-3, \n",
    "     total_step=200, \n",
    "     content_weight=1,\n",
    "     style_weight=1e5, \n",
    "     log_step=20, \n",
    "     sample_step=100)"
   ]
  },
  {
   "cell_type": "code",
   "execution_count": 1,
   "metadata": {},
   "outputs": [],
   "source": [
    "import imageio, os\n",
    "filelist = []  \n",
    "root = os.getcwd()\n",
    "pathr = os.path.join(root, \"rex_shout\")\n",
    "files = os.listdir(pathr)\n",
    "for f in files:  \n",
    "    if(os.path.isfile(pathr + '/' + f)):\n",
    "        if (os.path.splitext(f)[1] == \".png\"):\n",
    "            filelist.append(f)\n",
    "ff = sorted(filelist)\n",
    "images = []\n",
    "for f in ff:\n",
    "    images.append(imageio.imread(os.path.join(pathr, f)))\n",
    "imageio.mimsave(os.path.join(pathr, 'res.gif'), images, duration=0.2)"
   ]
  },
  {
   "cell_type": "code",
   "execution_count": null,
   "metadata": {},
   "outputs": [],
   "source": []
  }
 ],
 "metadata": {
  "kernelspec": {
   "display_name": "Python 3",
   "language": "python",
   "name": "python3"
  },
  "language_info": {
   "codemirror_mode": {
    "name": "ipython",
    "version": 3
   },
   "file_extension": ".py",
   "mimetype": "text/x-python",
   "name": "python",
   "nbconvert_exporter": "python",
   "pygments_lexer": "ipython3",
   "version": "3.6.4"
  }
 },
 "nbformat": 4,
 "nbformat_minor": 2
}
