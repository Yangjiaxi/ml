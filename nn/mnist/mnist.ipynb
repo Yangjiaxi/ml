{
 "cells": [
  {
   "cell_type": "code",
   "execution_count": 1,
   "metadata": {},
   "outputs": [],
   "source": [
    "import torch\n",
    "import torch.nn as nn\n",
    "import torch.nn.functional as F\n",
    "import torch.optim as optim\n",
    "from torchvision import datasets, transforms"
   ]
  },
  {
   "cell_type": "code",
   "execution_count": 2,
   "metadata": {},
   "outputs": [],
   "source": [
    "device = torch.device(\"cuda\" if torch.cuda.is_available() else \"cpu\")"
   ]
  },
  {
   "cell_type": "code",
   "execution_count": 3,
   "metadata": {},
   "outputs": [],
   "source": [
    "trans = transforms.Compose([transforms.ToTensor(), transforms.Normalize((0.1307,), (0.3081,))])"
   ]
  },
  {
   "cell_type": "code",
   "execution_count": 4,
   "metadata": {},
   "outputs": [],
   "source": [
    "train_data = datasets.MNIST(\"../data\", train=True, download=True, transform=trans)"
   ]
  },
  {
   "cell_type": "code",
   "execution_count": 5,
   "metadata": {},
   "outputs": [],
   "source": [
    "test_data = datasets.MNIST('../data', train=False, download=True, transform=trans)"
   ]
  },
  {
   "cell_type": "code",
   "execution_count": 6,
   "metadata": {},
   "outputs": [],
   "source": [
    "train_loader = torch.utils.data.DataLoader(train_data, batch_size=100, shuffle=True)\n",
    "test_loader = torch.utils.data.DataLoader(test_data, batch_size=1000, shuffle=False)"
   ]
  },
  {
   "cell_type": "code",
   "execution_count": 7,
   "metadata": {},
   "outputs": [],
   "source": [
    "class Net(nn.Module):\n",
    "    def __init__(self):\n",
    "        super().__init__()\n",
    "        self.conv1 = nn.Conv2d(1, 10, kernel_size=5)\n",
    "        self.conv2 = nn.Conv2d(10, 20, kernel_size=5)\n",
    "        self.conv2_drop = nn.Dropout2d()\n",
    "        self.fc1 = nn.Linear(320, 50)\n",
    "        self.fc2 = nn.Linear(50, 10)\n",
    "    \n",
    "    def forward(self, x):\n",
    "        x = self.conv1(x)\n",
    "        x = F.max_pool2d(x, 2)\n",
    "        x = F.relu(x)\n",
    "        #----1----#\n",
    "        x = self.conv2(x)\n",
    "        x = self.conv2_drop(x)\n",
    "        x = F.max_pool2d(x, 2)\n",
    "        x = F.relu(x)\n",
    "        #----2----#\n",
    "        x = x.view(-1, 320)\n",
    "        x = self.fc1(x)\n",
    "        x = F.relu(x)\n",
    "        #----3----#\n",
    "        x = F.dropout(x, training=self.training)\n",
    "        x = self.fc2(x)\n",
    "        #----4----#\n",
    "        res = F.log_softmax(x, dim=1)\n",
    "        return res"
   ]
  },
  {
   "cell_type": "code",
   "execution_count": 8,
   "metadata": {},
   "outputs": [],
   "source": [
    "model = Net().to(device)"
   ]
  },
  {
   "cell_type": "code",
   "execution_count": 9,
   "metadata": {},
   "outputs": [],
   "source": [
    "optimizer = optim.SGD(model.parameters(), lr=0.05, momentum=0.5)\n",
    "# optimizer = torch.optim.Adam(model.parameters(), lr=0.01, betas=[0.5, 0.999])"
   ]
  },
  {
   "cell_type": "code",
   "execution_count": 10,
   "metadata": {},
   "outputs": [],
   "source": [
    "def train(epoch):\n",
    "    for batch_idx, (data, target) in enumerate(train_loader):\n",
    "        data, target = data.to(device), target.to(device)\n",
    "        optimizer.zero_grad()\n",
    "        output = model(data)\n",
    "        loss = F.nll_loss(output, target) # The negative log likelihood loss => nll_loss()\n",
    "        loss.backward()\n",
    "        optimizer.step()\n",
    "        if (batch_idx + 1) % int(len(train_loader.dataset) / len(data) / 10) == 0:\n",
    "            print('Train Epoch: {:2d} [{:5d}/{} ({:3.0f}%)]\\tLoss: {:.6f}'.format(\n",
    "                epoch, \n",
    "                (batch_idx + 1) * len(data), \n",
    "                len(train_loader.dataset),\n",
    "                100 * (batch_idx + 1) / len(train_loader), \n",
    "                loss.item()))"
   ]
  },
  {
   "cell_type": "code",
   "execution_count": 11,
   "metadata": {},
   "outputs": [],
   "source": [
    "def test(epoch):\n",
    "    test_loss = 0\n",
    "    correct = 0\n",
    "    with torch.no_grad():\n",
    "        for data, target in test_loader:\n",
    "            data, target = data.to(device), target.to(device)\n",
    "            output = model(data)\n",
    "            test_loss += F.nll_loss(output, target, size_average=False).item()\n",
    "            pred = output.max(1)[1]\n",
    "            correct += pred.eq(target.view_as(pred)).sum().item()\n",
    "        \n",
    "        test_loss /= len(test_loader.dataset)\n",
    "        print('\\nTest set: Average loss: {:.4f}, Accuracy: {}/{} ({:.0f}%)\\n'.format(\n",
    "            test_loss, correct, len(test_loader.dataset),\n",
    "            100. * correct / len(test_loader.dataset)))"
   ]
  },
  {
   "cell_type": "code",
   "execution_count": 12,
   "metadata": {},
   "outputs": [
    {
     "name": "stdout",
     "output_type": "stream",
     "text": [
      "Train Epoch:  1 [ 6000/60000 ( 10%)]\tLoss: 1.186374\n",
      "Train Epoch:  1 [12000/60000 ( 20%)]\tLoss: 0.642611\n",
      "Train Epoch:  1 [18000/60000 ( 30%)]\tLoss: 0.508379\n",
      "Train Epoch:  1 [24000/60000 ( 40%)]\tLoss: 0.582222\n",
      "Train Epoch:  1 [30000/60000 ( 50%)]\tLoss: 0.390512\n",
      "Train Epoch:  1 [36000/60000 ( 60%)]\tLoss: 0.366878\n",
      "Train Epoch:  1 [42000/60000 ( 70%)]\tLoss: 0.378603\n",
      "Train Epoch:  1 [48000/60000 ( 80%)]\tLoss: 0.276264\n",
      "Train Epoch:  1 [54000/60000 ( 90%)]\tLoss: 0.370660\n",
      "Train Epoch:  1 [60000/60000 (100%)]\tLoss: 0.504002\n",
      "\n",
      "Test set: Average loss: 0.2752, Accuracy: 9152/10000 (92%)\n",
      "\n",
      "Train Epoch:  2 [ 6000/60000 ( 10%)]\tLoss: 0.179811\n",
      "Train Epoch:  2 [12000/60000 ( 20%)]\tLoss: 0.199817\n",
      "Train Epoch:  2 [18000/60000 ( 30%)]\tLoss: 0.289343\n",
      "Train Epoch:  2 [24000/60000 ( 40%)]\tLoss: 0.495287\n",
      "Train Epoch:  2 [30000/60000 ( 50%)]\tLoss: 0.211445\n",
      "Train Epoch:  2 [36000/60000 ( 60%)]\tLoss: 0.192874\n",
      "Train Epoch:  2 [42000/60000 ( 70%)]\tLoss: 0.289186\n",
      "Train Epoch:  2 [48000/60000 ( 80%)]\tLoss: 0.258984\n",
      "Train Epoch:  2 [54000/60000 ( 90%)]\tLoss: 0.227302\n",
      "Train Epoch:  2 [60000/60000 (100%)]\tLoss: 0.387106\n",
      "\n",
      "Test set: Average loss: 0.2160, Accuracy: 9349/10000 (93%)\n",
      "\n",
      "Train Epoch:  3 [ 6000/60000 ( 10%)]\tLoss: 0.141785\n",
      "Train Epoch:  3 [12000/60000 ( 20%)]\tLoss: 0.339595\n",
      "Train Epoch:  3 [18000/60000 ( 30%)]\tLoss: 0.210816\n",
      "Train Epoch:  3 [24000/60000 ( 40%)]\tLoss: 0.175426\n",
      "Train Epoch:  3 [30000/60000 ( 50%)]\tLoss: 0.181855\n",
      "Train Epoch:  3 [36000/60000 ( 60%)]\tLoss: 0.236495\n",
      "Train Epoch:  3 [42000/60000 ( 70%)]\tLoss: 0.153625\n",
      "Train Epoch:  3 [48000/60000 ( 80%)]\tLoss: 0.202660\n",
      "Train Epoch:  3 [54000/60000 ( 90%)]\tLoss: 0.174293\n",
      "Train Epoch:  3 [60000/60000 (100%)]\tLoss: 0.210768\n",
      "\n",
      "Test set: Average loss: 0.1871, Accuracy: 9434/10000 (94%)\n",
      "\n",
      "Train Epoch:  4 [ 6000/60000 ( 10%)]\tLoss: 0.292745\n",
      "Train Epoch:  4 [12000/60000 ( 20%)]\tLoss: 0.211531\n",
      "Train Epoch:  4 [18000/60000 ( 30%)]\tLoss: 0.117786\n",
      "Train Epoch:  4 [24000/60000 ( 40%)]\tLoss: 0.101774\n",
      "Train Epoch:  4 [30000/60000 ( 50%)]\tLoss: 0.254200\n",
      "Train Epoch:  4 [36000/60000 ( 60%)]\tLoss: 0.126896\n",
      "Train Epoch:  4 [42000/60000 ( 70%)]\tLoss: 0.160080\n",
      "Train Epoch:  4 [48000/60000 ( 80%)]\tLoss: 0.122890\n",
      "Train Epoch:  4 [54000/60000 ( 90%)]\tLoss: 0.135153\n",
      "Train Epoch:  4 [60000/60000 (100%)]\tLoss: 0.160752\n",
      "\n",
      "Test set: Average loss: 0.1821, Accuracy: 9465/10000 (95%)\n",
      "\n",
      "Train Epoch:  5 [ 6000/60000 ( 10%)]\tLoss: 0.100892\n",
      "Train Epoch:  5 [12000/60000 ( 20%)]\tLoss: 0.150309\n",
      "Train Epoch:  5 [18000/60000 ( 30%)]\tLoss: 0.219720\n",
      "Train Epoch:  5 [24000/60000 ( 40%)]\tLoss: 0.158243\n",
      "Train Epoch:  5 [30000/60000 ( 50%)]\tLoss: 0.229379\n",
      "Train Epoch:  5 [36000/60000 ( 60%)]\tLoss: 0.248032\n",
      "Train Epoch:  5 [42000/60000 ( 70%)]\tLoss: 0.229581\n",
      "Train Epoch:  5 [48000/60000 ( 80%)]\tLoss: 0.180795\n",
      "Train Epoch:  5 [54000/60000 ( 90%)]\tLoss: 0.155578\n",
      "Train Epoch:  5 [60000/60000 (100%)]\tLoss: 0.131365\n",
      "\n",
      "Test set: Average loss: 0.1635, Accuracy: 9490/10000 (95%)\n",
      "\n",
      "Train Epoch:  6 [ 6000/60000 ( 10%)]\tLoss: 0.147882\n",
      "Train Epoch:  6 [12000/60000 ( 20%)]\tLoss: 0.278793\n",
      "Train Epoch:  6 [18000/60000 ( 30%)]\tLoss: 0.107753\n",
      "Train Epoch:  6 [24000/60000 ( 40%)]\tLoss: 0.107666\n",
      "Train Epoch:  6 [30000/60000 ( 50%)]\tLoss: 0.065118\n",
      "Train Epoch:  6 [36000/60000 ( 60%)]\tLoss: 0.204248\n",
      "Train Epoch:  6 [42000/60000 ( 70%)]\tLoss: 0.254513\n",
      "Train Epoch:  6 [48000/60000 ( 80%)]\tLoss: 0.098746\n",
      "Train Epoch:  6 [54000/60000 ( 90%)]\tLoss: 0.235458\n",
      "Train Epoch:  6 [60000/60000 (100%)]\tLoss: 0.285531\n",
      "\n",
      "Test set: Average loss: 0.1507, Accuracy: 9538/10000 (95%)\n",
      "\n",
      "Train Epoch:  7 [ 6000/60000 ( 10%)]\tLoss: 0.067343\n",
      "Train Epoch:  7 [12000/60000 ( 20%)]\tLoss: 0.152782\n",
      "Train Epoch:  7 [18000/60000 ( 30%)]\tLoss: 0.127379\n",
      "Train Epoch:  7 [24000/60000 ( 40%)]\tLoss: 0.122083\n",
      "Train Epoch:  7 [30000/60000 ( 50%)]\tLoss: 0.177418\n",
      "Train Epoch:  7 [36000/60000 ( 60%)]\tLoss: 0.110697\n",
      "Train Epoch:  7 [42000/60000 ( 70%)]\tLoss: 0.202372\n",
      "Train Epoch:  7 [48000/60000 ( 80%)]\tLoss: 0.114124\n",
      "Train Epoch:  7 [54000/60000 ( 90%)]\tLoss: 0.098509\n",
      "Train Epoch:  7 [60000/60000 (100%)]\tLoss: 0.080190\n",
      "\n",
      "Test set: Average loss: 0.1353, Accuracy: 9619/10000 (96%)\n",
      "\n",
      "Train Epoch:  8 [ 6000/60000 ( 10%)]\tLoss: 0.240869\n",
      "Train Epoch:  8 [12000/60000 ( 20%)]\tLoss: 0.214371\n",
      "Train Epoch:  8 [18000/60000 ( 30%)]\tLoss: 0.146021\n",
      "Train Epoch:  8 [24000/60000 ( 40%)]\tLoss: 0.117809\n",
      "Train Epoch:  8 [30000/60000 ( 50%)]\tLoss: 0.089233\n",
      "Train Epoch:  8 [36000/60000 ( 60%)]\tLoss: 0.087465\n",
      "Train Epoch:  8 [42000/60000 ( 70%)]\tLoss: 0.138836\n",
      "Train Epoch:  8 [48000/60000 ( 80%)]\tLoss: 0.215574\n",
      "Train Epoch:  8 [54000/60000 ( 90%)]\tLoss: 0.035608\n",
      "Train Epoch:  8 [60000/60000 (100%)]\tLoss: 0.185775\n",
      "\n",
      "Test set: Average loss: 0.1399, Accuracy: 9586/10000 (96%)\n",
      "\n",
      "Train Epoch:  9 [ 6000/60000 ( 10%)]\tLoss: 0.102401\n",
      "Train Epoch:  9 [12000/60000 ( 20%)]\tLoss: 0.144322\n",
      "Train Epoch:  9 [18000/60000 ( 30%)]\tLoss: 0.143893\n",
      "Train Epoch:  9 [24000/60000 ( 40%)]\tLoss: 0.086212\n",
      "Train Epoch:  9 [30000/60000 ( 50%)]\tLoss: 0.103609\n",
      "Train Epoch:  9 [36000/60000 ( 60%)]\tLoss: 0.105375\n",
      "Train Epoch:  9 [42000/60000 ( 70%)]\tLoss: 0.135884\n",
      "Train Epoch:  9 [48000/60000 ( 80%)]\tLoss: 0.100332\n",
      "Train Epoch:  9 [54000/60000 ( 90%)]\tLoss: 0.050615\n",
      "Train Epoch:  9 [60000/60000 (100%)]\tLoss: 0.272140\n",
      "\n",
      "Test set: Average loss: 0.1352, Accuracy: 9592/10000 (96%)\n",
      "\n",
      "Train Epoch: 10 [ 6000/60000 ( 10%)]\tLoss: 0.132291\n",
      "Train Epoch: 10 [12000/60000 ( 20%)]\tLoss: 0.127851\n",
      "Train Epoch: 10 [18000/60000 ( 30%)]\tLoss: 0.180281\n",
      "Train Epoch: 10 [24000/60000 ( 40%)]\tLoss: 0.071141\n",
      "Train Epoch: 10 [30000/60000 ( 50%)]\tLoss: 0.320451\n",
      "Train Epoch: 10 [36000/60000 ( 60%)]\tLoss: 0.166034\n",
      "Train Epoch: 10 [42000/60000 ( 70%)]\tLoss: 0.206592\n",
      "Train Epoch: 10 [48000/60000 ( 80%)]\tLoss: 0.100875\n",
      "Train Epoch: 10 [54000/60000 ( 90%)]\tLoss: 0.196700\n",
      "Train Epoch: 10 [60000/60000 (100%)]\tLoss: 0.168904\n",
      "\n",
      "Test set: Average loss: 0.1294, Accuracy: 9646/10000 (96%)\n",
      "\n"
     ]
    }
   ],
   "source": [
    "for epoch in range(1, 11):\n",
    "    train(epoch)\n",
    "    test(epoch)"
   ]
  },
  {
   "cell_type": "code",
   "execution_count": null,
   "metadata": {},
   "outputs": [],
   "source": []
  }
 ],
 "metadata": {
  "kernelspec": {
   "display_name": "Python 3",
   "language": "python",
   "name": "python3"
  },
  "language_info": {
   "codemirror_mode": {
    "name": "ipython",
    "version": 3
   },
   "file_extension": ".py",
   "mimetype": "text/x-python",
   "name": "python",
   "nbconvert_exporter": "python",
   "pygments_lexer": "ipython3",
   "version": "3.6.4"
  }
 },
 "nbformat": 4,
 "nbformat_minor": 2
}
