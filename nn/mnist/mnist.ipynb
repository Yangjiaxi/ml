{
 "cells": [
  {
   "cell_type": "code",
   "execution_count": 1,
   "metadata": {},
   "outputs": [],
   "source": [
    "import torch\n",
    "import torch.nn as nn\n",
    "import torch.nn.functional as F\n",
    "import torch.optim as optim\n",
    "from torchvision import datasets, transforms"
   ]
  },
  {
   "cell_type": "code",
   "execution_count": 2,
   "metadata": {},
   "outputs": [],
   "source": [
    "device = torch.device(\"cuda\" if torch.cuda.is_available() else \"cpu\")"
   ]
  },
  {
   "cell_type": "code",
   "execution_count": 3,
   "metadata": {},
   "outputs": [],
   "source": [
    "trans = transforms.Compose([transforms.ToTensor(), transforms.Normalize((0.1307,), (0.3081,))])"
   ]
  },
  {
   "cell_type": "code",
   "execution_count": 4,
   "metadata": {},
   "outputs": [],
   "source": [
    "train_data = datasets.MNIST(\"../data\", train=True, download=True, transform=trans)"
   ]
  },
  {
   "cell_type": "code",
   "execution_count": 5,
   "metadata": {},
   "outputs": [],
   "source": [
    "test_data = datasets.MNIST('../data', train=False, download=True, transform=trans)"
   ]
  },
  {
   "cell_type": "code",
   "execution_count": 6,
   "metadata": {},
   "outputs": [],
   "source": [
    "train_loader = torch.utils.data.DataLoader(train_data, batch_size=100, shuffle=True)\n",
    "test_loader = torch.utils.data.DataLoader(test_data, batch_size=1000, shuffle=False)"
   ]
  },
  {
   "cell_type": "code",
   "execution_count": 7,
   "metadata": {},
   "outputs": [],
   "source": [
    "class Net(nn.Module):\n",
    "    def __init__(self):\n",
    "        super().__init__()\n",
    "        self.conv1 = nn.Conv2d(1, 10, kernel_size=5)\n",
    "        self.conv2 = nn.Conv2d(10, 20, kernel_size=5)\n",
    "        self.conv2_drop = nn.Dropout2d()\n",
    "        self.fc1 = nn.Linear(320, 50)\n",
    "        self.fc2 = nn.Linear(50, 10)\n",
    "    \n",
    "    def forward(self, x):\n",
    "        x = self.conv1(x)\n",
    "        x = F.max_pool2d(x, 2)\n",
    "        x = F.relu(x)\n",
    "        #----1----#\n",
    "        x = self.conv2(x)\n",
    "        x = self.conv2_drop(x)\n",
    "        x = F.max_pool2d(x, 2)\n",
    "        x = F.relu(x)\n",
    "        #----2----#\n",
    "        x = x.view(-1, 320)\n",
    "        x = self.fc1(x)\n",
    "        x = F.relu(x)\n",
    "        #----3----#\n",
    "        x = F.dropout(x, training=self.training)\n",
    "        x = self.fc2(x)\n",
    "        #----4----#\n",
    "        res = F.log_softmax(x, dim=1)\n",
    "        return res"
   ]
  },
  {
   "cell_type": "code",
   "execution_count": 8,
   "metadata": {},
   "outputs": [],
   "source": [
    "model = Net().to(device)"
   ]
  },
  {
   "cell_type": "code",
   "execution_count": 9,
   "metadata": {},
   "outputs": [],
   "source": [
    "optimizer = optim.SGD(model.parameters(), lr=0.05, momentum=0.5)\n",
    "# optimizer = torch.optim.Adam(model.parameters(), lr=0.01, betas=[0.5, 0.999])"
   ]
  },
  {
   "cell_type": "code",
   "execution_count": 10,
   "metadata": {},
   "outputs": [],
   "source": [
    "def train(epoch):\n",
    "    for batch_idx, (data, target) in enumerate(train_loader):\n",
    "        data, target = data.to(device), target.to(device)\n",
    "        optimizer.zero_grad()\n",
    "        output = model(data)\n",
    "        loss = F.nll_loss(output, target) # The negative log likelihood loss => nll_loss()\n",
    "        loss.backward()\n",
    "        optimizer.step()\n",
    "        if (batch_idx + 1) % int(len(train_loader.dataset) / len(data) / 10) == 0:\n",
    "            print('Train Epoch: {:2d} [{:5d}/{} ({:3.0f}%)]\\tLoss: {:.6f}'.format(\n",
    "                epoch, \n",
    "                (batch_idx + 1) * len(data), \n",
    "                len(train_loader.dataset),\n",
    "                100 * (batch_idx + 1) / len(train_loader), \n",
    "                loss.item()))"
   ]
  },
  {
   "cell_type": "code",
   "execution_count": 11,
   "metadata": {},
   "outputs": [],
   "source": [
    "def test(epoch):\n",
    "    test_loss = 0\n",
    "    correct = 0\n",
    "    with torch.no_grad():\n",
    "        for data, target in test_loader:\n",
    "            data, target = data.to(device), target.to(device)\n",
    "            output = model(data)\n",
    "            test_loss += F.nll_loss(output, target, size_average=False).item()\n",
    "            pred = output.max(1)[1]\n",
    "            correct += pred.eq(target.view_as(pred)).sum().item()\n",
    "        \n",
    "        test_loss /= len(test_loader.dataset)\n",
    "        print('\\nTest set: Average loss: {:.4f}, Accuracy: {}/{} ({:.0f}%)\\n'.format(\n",
    "            test_loss, correct, len(test_loader.dataset),\n",
    "            100. * correct / len(test_loader.dataset)))"
   ]
  },
  {
   "cell_type": "code",
   "execution_count": 12,
   "metadata": {},
   "outputs": [
    {
     "name": "stdout",
     "output_type": "stream",
     "text": [
      "Train Epoch:  1 [ 6000/60000 ( 10%)]\tLoss: 0.979954\n",
      "Train Epoch:  1 [12000/60000 ( 20%)]\tLoss: 0.747456\n",
      "Train Epoch:  1 [18000/60000 ( 30%)]\tLoss: 0.326654\n",
      "Train Epoch:  1 [24000/60000 ( 40%)]\tLoss: 0.392786\n",
      "Train Epoch:  1 [30000/60000 ( 50%)]\tLoss: 0.413570\n",
      "Train Epoch:  1 [36000/60000 ( 60%)]\tLoss: 0.380914\n",
      "Train Epoch:  1 [42000/60000 ( 70%)]\tLoss: 0.367909\n",
      "Train Epoch:  1 [48000/60000 ( 80%)]\tLoss: 0.273693\n",
      "Train Epoch:  1 [54000/60000 ( 90%)]\tLoss: 0.113878\n",
      "Train Epoch:  1 [60000/60000 (100%)]\tLoss: 0.293402\n",
      "\n",
      "Test set: Average loss: 0.2872, Accuracy: 9118/10000 (91%)\n",
      "\n",
      "Train Epoch:  2 [ 6000/60000 ( 10%)]\tLoss: 0.337693\n",
      "Train Epoch:  2 [12000/60000 ( 20%)]\tLoss: 0.302656\n",
      "Train Epoch:  2 [18000/60000 ( 30%)]\tLoss: 0.220569\n",
      "Train Epoch:  2 [24000/60000 ( 40%)]\tLoss: 0.213460\n",
      "Train Epoch:  2 [30000/60000 ( 50%)]\tLoss: 0.268412\n",
      "Train Epoch:  2 [36000/60000 ( 60%)]\tLoss: 0.502037\n",
      "Train Epoch:  2 [42000/60000 ( 70%)]\tLoss: 0.209280\n",
      "Train Epoch:  2 [48000/60000 ( 80%)]\tLoss: 0.317715\n",
      "Train Epoch:  2 [54000/60000 ( 90%)]\tLoss: 0.289067\n",
      "Train Epoch:  2 [60000/60000 (100%)]\tLoss: 0.297401\n",
      "\n",
      "Test set: Average loss: 0.2299, Accuracy: 9298/10000 (93%)\n",
      "\n",
      "Train Epoch:  3 [ 6000/60000 ( 10%)]\tLoss: 0.198824\n",
      "Train Epoch:  3 [12000/60000 ( 20%)]\tLoss: 0.230898\n",
      "Train Epoch:  3 [18000/60000 ( 30%)]\tLoss: 0.214380\n",
      "Train Epoch:  3 [24000/60000 ( 40%)]\tLoss: 0.260685\n",
      "Train Epoch:  3 [30000/60000 ( 50%)]\tLoss: 0.277540\n",
      "Train Epoch:  3 [36000/60000 ( 60%)]\tLoss: 0.196396\n",
      "Train Epoch:  3 [42000/60000 ( 70%)]\tLoss: 0.246826\n",
      "Train Epoch:  3 [48000/60000 ( 80%)]\tLoss: 0.258468\n",
      "Train Epoch:  3 [54000/60000 ( 90%)]\tLoss: 0.269979\n",
      "Train Epoch:  3 [60000/60000 (100%)]\tLoss: 0.239260\n",
      "\n",
      "Test set: Average loss: 0.2010, Accuracy: 9416/10000 (94%)\n",
      "\n",
      "Train Epoch:  4 [ 6000/60000 ( 10%)]\tLoss: 0.306563\n",
      "Train Epoch:  4 [12000/60000 ( 20%)]\tLoss: 0.189878\n",
      "Train Epoch:  4 [18000/60000 ( 30%)]\tLoss: 0.137069\n",
      "Train Epoch:  4 [24000/60000 ( 40%)]\tLoss: 0.237772\n",
      "Train Epoch:  4 [30000/60000 ( 50%)]\tLoss: 0.172542\n",
      "Train Epoch:  4 [36000/60000 ( 60%)]\tLoss: 0.335382\n",
      "Train Epoch:  4 [42000/60000 ( 70%)]\tLoss: 0.135448\n",
      "Train Epoch:  4 [48000/60000 ( 80%)]\tLoss: 0.118312\n",
      "Train Epoch:  4 [54000/60000 ( 90%)]\tLoss: 0.128256\n",
      "Train Epoch:  4 [60000/60000 (100%)]\tLoss: 0.113712\n",
      "\n",
      "Test set: Average loss: 0.1725, Accuracy: 9500/10000 (95%)\n",
      "\n",
      "Train Epoch:  5 [ 6000/60000 ( 10%)]\tLoss: 0.170670\n",
      "Train Epoch:  5 [12000/60000 ( 20%)]\tLoss: 0.124605\n",
      "Train Epoch:  5 [18000/60000 ( 30%)]\tLoss: 0.249743\n",
      "Train Epoch:  5 [24000/60000 ( 40%)]\tLoss: 0.267906\n",
      "Train Epoch:  5 [30000/60000 ( 50%)]\tLoss: 0.183523\n",
      "Train Epoch:  5 [36000/60000 ( 60%)]\tLoss: 0.201320\n",
      "Train Epoch:  5 [42000/60000 ( 70%)]\tLoss: 0.128966\n",
      "Train Epoch:  5 [48000/60000 ( 80%)]\tLoss: 0.332308\n",
      "Train Epoch:  5 [54000/60000 ( 90%)]\tLoss: 0.085497\n",
      "Train Epoch:  5 [60000/60000 (100%)]\tLoss: 0.134897\n",
      "\n",
      "Test set: Average loss: 0.1677, Accuracy: 9526/10000 (95%)\n",
      "\n",
      "Train Epoch:  6 [ 6000/60000 ( 10%)]\tLoss: 0.185290\n",
      "Train Epoch:  6 [12000/60000 ( 20%)]\tLoss: 0.142896\n",
      "Train Epoch:  6 [18000/60000 ( 30%)]\tLoss: 0.087635\n",
      "Train Epoch:  6 [24000/60000 ( 40%)]\tLoss: 0.204450\n",
      "Train Epoch:  6 [30000/60000 ( 50%)]\tLoss: 0.263390\n",
      "Train Epoch:  6 [36000/60000 ( 60%)]\tLoss: 0.176480\n",
      "Train Epoch:  6 [42000/60000 ( 70%)]\tLoss: 0.169646\n",
      "Train Epoch:  6 [48000/60000 ( 80%)]\tLoss: 0.074723\n",
      "Train Epoch:  6 [54000/60000 ( 90%)]\tLoss: 0.199062\n",
      "Train Epoch:  6 [60000/60000 (100%)]\tLoss: 0.327051\n",
      "\n",
      "Test set: Average loss: 0.1567, Accuracy: 9545/10000 (95%)\n",
      "\n",
      "Train Epoch:  7 [ 6000/60000 ( 10%)]\tLoss: 0.160617\n",
      "Train Epoch:  7 [12000/60000 ( 20%)]\tLoss: 0.087015\n",
      "Train Epoch:  7 [18000/60000 ( 30%)]\tLoss: 0.117698\n",
      "Train Epoch:  7 [24000/60000 ( 40%)]\tLoss: 0.252516\n",
      "Train Epoch:  7 [30000/60000 ( 50%)]\tLoss: 0.171157\n",
      "Train Epoch:  7 [36000/60000 ( 60%)]\tLoss: 0.204537\n",
      "Train Epoch:  7 [42000/60000 ( 70%)]\tLoss: 0.090946\n",
      "Train Epoch:  7 [48000/60000 ( 80%)]\tLoss: 0.164599\n",
      "Train Epoch:  7 [54000/60000 ( 90%)]\tLoss: 0.147068\n",
      "Train Epoch:  7 [60000/60000 (100%)]\tLoss: 0.157718\n",
      "\n",
      "Test set: Average loss: 0.1600, Accuracy: 9537/10000 (95%)\n",
      "\n",
      "Train Epoch:  8 [ 6000/60000 ( 10%)]\tLoss: 0.176255\n",
      "Train Epoch:  8 [12000/60000 ( 20%)]\tLoss: 0.078150\n",
      "Train Epoch:  8 [18000/60000 ( 30%)]\tLoss: 0.073016\n",
      "Train Epoch:  8 [24000/60000 ( 40%)]\tLoss: 0.036087\n",
      "Train Epoch:  8 [30000/60000 ( 50%)]\tLoss: 0.180702\n",
      "Train Epoch:  8 [36000/60000 ( 60%)]\tLoss: 0.082129\n",
      "Train Epoch:  8 [42000/60000 ( 70%)]\tLoss: 0.133394\n",
      "Train Epoch:  8 [48000/60000 ( 80%)]\tLoss: 0.045519\n",
      "Train Epoch:  8 [54000/60000 ( 90%)]\tLoss: 0.082814\n",
      "Train Epoch:  8 [60000/60000 (100%)]\tLoss: 0.233967\n",
      "\n",
      "Test set: Average loss: 0.1463, Accuracy: 9567/10000 (96%)\n",
      "\n",
      "Train Epoch:  9 [ 6000/60000 ( 10%)]\tLoss: 0.096030\n",
      "Train Epoch:  9 [12000/60000 ( 20%)]\tLoss: 0.210568\n",
      "Train Epoch:  9 [18000/60000 ( 30%)]\tLoss: 0.061815\n",
      "Train Epoch:  9 [24000/60000 ( 40%)]\tLoss: 0.380827\n",
      "Train Epoch:  9 [30000/60000 ( 50%)]\tLoss: 0.158892\n",
      "Train Epoch:  9 [36000/60000 ( 60%)]\tLoss: 0.051173\n",
      "Train Epoch:  9 [42000/60000 ( 70%)]\tLoss: 0.233679\n",
      "Train Epoch:  9 [48000/60000 ( 80%)]\tLoss: 0.227920\n",
      "Train Epoch:  9 [54000/60000 ( 90%)]\tLoss: 0.124765\n",
      "Train Epoch:  9 [60000/60000 (100%)]\tLoss: 0.196305\n",
      "\n",
      "Test set: Average loss: 0.1313, Accuracy: 9601/10000 (96%)\n",
      "\n",
      "Train Epoch: 10 [ 6000/60000 ( 10%)]\tLoss: 0.217886\n",
      "Train Epoch: 10 [12000/60000 ( 20%)]\tLoss: 0.134553\n",
      "Train Epoch: 10 [18000/60000 ( 30%)]\tLoss: 0.156403\n",
      "Train Epoch: 10 [24000/60000 ( 40%)]\tLoss: 0.101862\n",
      "Train Epoch: 10 [30000/60000 ( 50%)]\tLoss: 0.094812\n",
      "Train Epoch: 10 [36000/60000 ( 60%)]\tLoss: 0.070287\n",
      "Train Epoch: 10 [42000/60000 ( 70%)]\tLoss: 0.191775\n",
      "Train Epoch: 10 [48000/60000 ( 80%)]\tLoss: 0.053073\n",
      "Train Epoch: 10 [54000/60000 ( 90%)]\tLoss: 0.179605\n",
      "Train Epoch: 10 [60000/60000 (100%)]\tLoss: 0.253958\n",
      "\n",
      "Test set: Average loss: 0.1264, Accuracy: 9636/10000 (96%)\n",
      "\n"
     ]
    }
   ],
   "source": [
    "for epoch in range(1, 11):\n",
    "    train(epoch)\n",
    "    test(epoch)"
   ]
  },
  {
   "cell_type": "code",
   "execution_count": null,
   "metadata": {},
   "outputs": [],
   "source": []
  }
 ],
 "metadata": {
  "kernelspec": {
   "display_name": "Python 3",
   "language": "python",
   "name": "python3"
  },
  "language_info": {
   "codemirror_mode": {
    "name": "ipython",
    "version": 3
   },
   "file_extension": ".py",
   "mimetype": "text/x-python",
   "name": "python",
   "nbconvert_exporter": "python",
   "pygments_lexer": "ipython3",
   "version": "3.6.4"
  }
 },
 "nbformat": 4,
 "nbformat_minor": 2
}
