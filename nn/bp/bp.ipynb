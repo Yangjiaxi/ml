{
 "cells": [
  {
   "cell_type": "code",
   "execution_count": 1,
   "metadata": {},
   "outputs": [],
   "source": [
    "import pandas as pd\n",
    "import numpy as np"
   ]
  },
  {
   "cell_type": "code",
   "execution_count": 2,
   "metadata": {},
   "outputs": [],
   "source": [
    "path = \"student.xls\""
   ]
  },
  {
   "cell_type": "code",
   "execution_count": 3,
   "metadata": {},
   "outputs": [],
   "source": [
    "def load_file(file):\n",
    "    lvl_map = {\n",
    "        \"High\" : 0,\n",
    "        \"Middle\" : 1,\n",
    "        \"Low\" : 2,\n",
    "        \"very_low\" : 3,\n",
    "        \"Very Low\" : 3\n",
    "    }\n",
    "    train_ori = pd.read_excel(file, sheet_name=\"Training_Data\")\n",
    "    test_ori = pd.read_excel(file, sheet_name=\"Test_Data\")\n",
    "    train_label = np.array(train_ori.iloc[:, -1].map(lvl_map)).astype(np.int).reshape((-1, ))\n",
    "    test_label = np.array(test_ori.iloc[:, -1].map(lvl_map)).astype(np.int).reshape((-1, ))\n",
    "    train_data = np.delete(np.array(train_ori), -1, -1).astype(np.float)\n",
    "    test_data = np.delete(np.array(test_ori), -1, -1).astype(np.float)\n",
    "    return train_data, train_label, test_data, test_label, lvl_map"
   ]
  },
  {
   "cell_type": "code",
   "execution_count": 4,
   "metadata": {},
   "outputs": [],
   "source": [
    "train_data, train_label, test_data, test_label, lvl_map = load_file(path)"
   ]
  },
  {
   "cell_type": "code",
   "execution_count": 5,
   "metadata": {},
   "outputs": [],
   "source": [
    "class FC:\n",
    "    def __init__(self, W, b, alpha_0, decay, epoch_drop):\n",
    "        self.W = W.copy()\n",
    "        self.b = b.copy()\n",
    "        self.alpha_0 = alpha_0\n",
    "        self.decay = decay\n",
    "        self.epoch_drop = epoch_drop\n",
    "        self.count = 0\n",
    "\n",
    "    def forward(self, x):\n",
    "        self.x = x.copy()\n",
    "        self.m, self.n = x.shape\n",
    "        return np.dot(self.x, self.W) + self.b\n",
    "\n",
    "    def backprop(self, back_grad):\n",
    "        self.grad_W = np.dot(self.x.T, back_grad)\n",
    "        self.grad_b = np.dot(np.ones(self.m), back_grad)\n",
    "        self.grad = np.dot(back_grad, self.W.T)\n",
    "        return self.grad\n",
    "\n",
    "    def l_rate(self):\n",
    "        lrate = self.alpha_0 * (self.decay ** (np.floor((1 + self.count) / self.epoch_drop)))\n",
    "        self.count += 1\n",
    "        return lrate\n",
    "    \n",
    "    def update(self):\n",
    "        alpha = self.l_rate()\n",
    "        self.W -= alpha * self.grad_W\n",
    "        self.b -= alpha * self.grad_b"
   ]
  },
  {
   "cell_type": "code",
   "execution_count": 6,
   "metadata": {},
   "outputs": [],
   "source": [
    "class Sigmoid:\n",
    "    def forward(self, x):\n",
    "        self.x = x.copy()\n",
    "        self.sig_res = 1 / (1 + np.exp(-x))\n",
    "        return self.sig_res\n",
    "    \n",
    "    def backprop(self, back_grad):\n",
    "        grad = back_grad * self.sig_res * (1 - self.sig_res)\n",
    "        return grad"
   ]
  },
  {
   "cell_type": "code",
   "execution_count": 7,
   "metadata": {},
   "outputs": [],
   "source": [
    "class Relu:\n",
    "    def forward(self, x):\n",
    "        self.x = x.copy()\n",
    "        return np.maximum(x, 0)\n",
    "\n",
    "    def backprop(self, back_grad):\n",
    "        grad = back_grad.copy()\n",
    "        grad[self.x < 0] = 0\n",
    "        return grad"
   ]
  },
  {
   "cell_type": "code",
   "execution_count": 8,
   "metadata": {},
   "outputs": [],
   "source": [
    "class Leaky_Relu:\n",
    "    def forward(self, x):\n",
    "        self.x = x.copy()\n",
    "        return np.maximum(x, self.x * 0.01)\n",
    "\n",
    "    def backprop(self, back_grad):\n",
    "        grad = back_grad.copy()\n",
    "        grad[self.x < 0] = grad[self.x < 0] * 0.01\n",
    "        return grad"
   ]
  },
  {
   "cell_type": "code",
   "execution_count": 9,
   "metadata": {},
   "outputs": [],
   "source": [
    "class Tanh:\n",
    "    def forward(self, x):\n",
    "        self.x = x.copy()\n",
    "        self.tanh = np.tanh(x)\n",
    "        return self.tanh\n",
    "    \n",
    "    def backprop(self, back_grad):\n",
    "        grad = back_grad * (1 - self.tanh ** 2)\n",
    "        return grad"
   ]
  },
  {
   "cell_type": "code",
   "execution_count": 10,
   "metadata": {},
   "outputs": [],
   "source": [
    "class Arctan:\n",
    "    def forward(self, x):\n",
    "        self.x = x.copy()\n",
    "        return np.arctan(self.x)\n",
    "    \n",
    "    def backprop(self, back_grad):\n",
    "        grad = back_grad / (1 + self.x ** 2)\n",
    "        return grad"
   ]
  },
  {
   "cell_type": "code",
   "execution_count": 11,
   "metadata": {},
   "outputs": [],
   "source": [
    "class SoftPlus:\n",
    "    def forward(self, x):\n",
    "        self.x = x.copy()\n",
    "        return np.log(1 + np.exp(self.x))\n",
    "    \n",
    "    def backprop(self, back_grad):\n",
    "        grad = back_grad / (1 + np.exp(-self.x))\n",
    "        return grad"
   ]
  },
  {
   "cell_type": "code",
   "execution_count": 12,
   "metadata": {},
   "outputs": [],
   "source": [
    "class SoftSign:\n",
    "    def forward(self, x):\n",
    "        self.x = x.copy()\n",
    "        return self.x / (1 + np.abs(self.x))\n",
    "    \n",
    "    def backprop(self, back_grad):\n",
    "        grad = back_grad / (1 + np.abs(self.x) ** 2)\n",
    "        return grad"
   ]
  },
  {
   "cell_type": "code",
   "execution_count": 13,
   "metadata": {},
   "outputs": [],
   "source": [
    "class Softmax:\n",
    "    def forward(self, x, y):\n",
    "        self.x = (x.copy() - x.max(axis=1).reshape(-1, 1))\n",
    "        self.y = y.copy()\n",
    "        self.m, self.n = self.x.shape\n",
    "        self.denom = np.sum(np.exp(x), axis=1).reshape((-1, 1))\n",
    "        self.softmax = np.exp(x) / self.denom\n",
    "        loss = 0\n",
    "        for i in range(self.m):\n",
    "            loss -= np.log(self.softmax[i, y[i]])\n",
    "        return loss / self.m\n",
    "\n",
    "    def dirac(self, a, b):\n",
    "        return 1 if a == b else 0\n",
    "    \n",
    "    def backprop(self):\n",
    "        grad = np.zeros([self.m, self.n])\n",
    "        for i in range(self.m):\n",
    "            for j in range(self.n):\n",
    "                grad[i, j] = (self.softmax[i, j] - self.dirac(j, self.y[i])) / self.m\n",
    "        return grad"
   ]
  },
  {
   "cell_type": "code",
   "execution_count": 14,
   "metadata": {},
   "outputs": [],
   "source": [
    "def bp(train_data, \n",
    "       train_label, \n",
    "       test_data, \n",
    "       test_label, \n",
    "       epochs, \n",
    "       activation, \n",
    "       alpha_0, \n",
    "       decay, \n",
    "       epochs_drop, \n",
    "       result_require=False):\n",
    "    \n",
    "    W1 = np.random.randn(5, 16) / np.sqrt(6)\n",
    "    b1 = np.zeros(16)\n",
    "    W2 = np.random.randn(16, 4) / np.sqrt(6)\n",
    "    b2 = np.zeros(4)\n",
    "    \n",
    "    activation_function_dict = {\n",
    "        \"arctan\"   : Arctan,\n",
    "        \"l_relu\"   : Leaky_Relu, \n",
    "        \"relu\"     : Relu, \n",
    "        \"sigmoid\"  : Sigmoid, \n",
    "        \"tanh\"     : Tanh, \n",
    "        \"softplus\" : SoftPlus,\n",
    "        \"softsign\" : SoftSign\n",
    "    }\n",
    "    \n",
    "    fc1 = FC(W1, b1, alpha_0, decay, epochs_drop)\n",
    "    act_f1 = activation_function_dict[activation]()\n",
    "    fc2 = FC(W2, b2, alpha_0, decay, epochs_drop)\n",
    "    softmax = Softmax()\n",
    "\n",
    "    # TRAINING BEGIN\n",
    "    for i in range(1, epochs + 1):\n",
    "        h1 = fc1.forward(train_data)\n",
    "        h2 = act_f1.forward(h1)\n",
    "        h3 = fc2.forward(h2)\n",
    "        loss = softmax.forward(h3, train_label)\n",
    "\n",
    "        if i % (epochs / 5) == 0:\n",
    "            print(\"After %d/%d epochs, loss : %f\" % (i, epochs, loss))\n",
    "\n",
    "        h3_grad = softmax.backprop()\n",
    "        h2_grad = fc2.backprop(h3_grad)\n",
    "        fc2.update()\n",
    "        h1_grad = act_f1.backprop(h2_grad)\n",
    "        x_grad = fc1.backprop(h1_grad)  # x_grad is useless in this supervised learning\n",
    "        fc1.update()\n",
    "    # TRAINING FINISH\n",
    "    \n",
    "    test_h1 = fc1.forward(test_data)\n",
    "    test_h2 = act_f1.forward(test_h1)\n",
    "    test_h3 = fc2.forward(test_h2)\n",
    "    pred = np.argmax(test_h3, 1)\n",
    "\n",
    "    acc = np.mean(pred == test_label)\n",
    "\n",
    "    print('test acc: ', acc)\n",
    "    \n",
    "    if result_require == True:\n",
    "        return pred"
   ]
  },
  {
   "cell_type": "code",
   "execution_count": 15,
   "metadata": {
    "scrolled": false
   },
   "outputs": [
    {
     "name": "stdout",
     "output_type": "stream",
     "text": [
      "Method : sigmoid\n",
      "After 1000/5000 epochs, loss : 1.034857\n",
      "After 2000/5000 epochs, loss : 0.778667\n",
      "After 3000/5000 epochs, loss : 0.614967\n",
      "After 4000/5000 epochs, loss : 0.499727\n",
      "After 5000/5000 epochs, loss : 0.417791\n",
      "test acc:  0.8275862068965517\n",
      "------------------------------------\n",
      "Method : tanh\n",
      "After 1000/5000 epochs, loss : 0.482603\n",
      "After 2000/5000 epochs, loss : 0.277281\n",
      "After 3000/5000 epochs, loss : 0.201163\n",
      "After 4000/5000 epochs, loss : 0.165548\n",
      "After 5000/5000 epochs, loss : 0.146143\n",
      "test acc:  0.9724137931034482\n",
      "------------------------------------\n",
      "Method : arctan\n",
      "After 1000/5000 epochs, loss : 0.460922\n",
      "After 2000/5000 epochs, loss : 0.269903\n",
      "After 3000/5000 epochs, loss : 0.196962\n",
      "After 4000/5000 epochs, loss : 0.162979\n",
      "After 5000/5000 epochs, loss : 0.144405\n",
      "test acc:  0.9724137931034482\n",
      "------------------------------------\n",
      "Method : relu\n",
      "After 1000/5000 epochs, loss : 0.461080\n",
      "After 2000/5000 epochs, loss : 0.248220\n",
      "After 3000/5000 epochs, loss : 0.177992\n",
      "After 4000/5000 epochs, loss : 0.147905\n",
      "After 5000/5000 epochs, loss : 0.132129\n",
      "test acc:  0.9793103448275862\n",
      "------------------------------------\n",
      "Method : l_relu\n",
      "After 1000/5000 epochs, loss : 0.473871\n",
      "After 2000/5000 epochs, loss : 0.246876\n",
      "After 3000/5000 epochs, loss : 0.176768\n",
      "After 4000/5000 epochs, loss : 0.147202\n",
      "After 5000/5000 epochs, loss : 0.131836\n",
      "test acc:  0.9793103448275862\n",
      "------------------------------------\n",
      "Method : softplus\n",
      "After 1000/5000 epochs, loss : 0.568707\n",
      "After 2000/5000 epochs, loss : 0.292789\n",
      "After 3000/5000 epochs, loss : 0.198780\n",
      "After 4000/5000 epochs, loss : 0.160098\n",
      "After 5000/5000 epochs, loss : 0.140765\n",
      "test acc:  0.9862068965517241\n",
      "------------------------------------\n",
      "Method : softsign\n",
      "After 1000/5000 epochs, loss : 0.511498\n",
      "After 2000/5000 epochs, loss : 0.302533\n",
      "After 3000/5000 epochs, loss : 0.215338\n",
      "After 4000/5000 epochs, loss : 0.173694\n",
      "After 5000/5000 epochs, loss : 0.150822\n",
      "test acc:  0.9724137931034482\n",
      "------------------------------------\n"
     ]
    }
   ],
   "source": [
    "activation_function_list = [\n",
    "    \"sigmoid\", \n",
    "    \"tanh\", \n",
    "    \"arctan\", \n",
    "    \"relu\", \n",
    "    \"l_relu\", \n",
    "    \"softplus\",\n",
    "    \"softsign\"\n",
    "]\n",
    "\n",
    "for method in activation_function_list:\n",
    "    print(\"Method : %s\" % method)\n",
    "    bp(train_data, \n",
    "       train_label, \n",
    "       test_data, \n",
    "       test_label, \n",
    "       epochs=5000,\n",
    "       activation=method, \n",
    "       alpha_0=0.05, \n",
    "       decay=0.99, \n",
    "       epochs_drop=1000)\n",
    "    print(\"------------------------------------\")"
   ]
  },
  {
   "cell_type": "code",
   "execution_count": 19,
   "metadata": {},
   "outputs": [
    {
     "name": "stdout",
     "output_type": "stream",
     "text": [
      "After 1600/8000 epochs, loss : 0.192886\n",
      "After 3200/8000 epochs, loss : 0.126634\n",
      "After 4800/8000 epochs, loss : 0.111639\n",
      "After 6400/8000 epochs, loss : 0.105058\n",
      "After 8000/8000 epochs, loss : 0.101251\n",
      "test acc:  0.9724137931034482\n"
     ]
    }
   ],
   "source": [
    "res = bp(train_data, \n",
    "         train_label, \n",
    "         test_data, \n",
    "         test_label, \n",
    "         epochs=8000,\n",
    "         activation=\"softplus\", \n",
    "         alpha_0=0.1, \n",
    "         decay=0.99, \n",
    "         epochs_drop=1000, \n",
    "         result_require=True)"
   ]
  },
  {
   "cell_type": "code",
   "execution_count": 20,
   "metadata": {},
   "outputs": [
    {
     "data": {
      "text/plain": [
       "array(['Very Low', 'Low', 'High', 'High', 'High', 'Low', 'Middle', 'Low',\n",
       "       'High', 'Very Low', 'Middle', 'Very Low', 'High', 'Middle', 'High',\n",
       "       'Very Low', 'High', 'Very Low', 'Low', 'Middle', 'High', 'Low',\n",
       "       'Low', 'Low', 'Middle', 'Very Low', 'Low', 'Middle', 'Middle',\n",
       "       'Very Low', 'Low', 'Low', 'Middle', 'High', 'Low', 'Middle', 'Low',\n",
       "       'High', 'Middle', 'Middle', 'Very Low', 'Low', 'High', 'Very Low',\n",
       "       'High', 'Very Low', 'Middle', 'Middle', 'High', 'Very Low',\n",
       "       'Middle', 'Very Low', 'High', 'Very Low', 'High', 'Very Low',\n",
       "       'Low', 'High', 'High', 'High', 'Low', 'Middle', 'High', 'Low',\n",
       "       'Middle', 'Low', 'Middle', 'Low', 'High', 'Very Low', 'High',\n",
       "       'Very Low', 'High', 'High', 'Low', 'High', 'Low', 'High', 'High',\n",
       "       'Middle', 'High', 'Very Low', 'Very Low', 'Low', 'Middle', 'Low',\n",
       "       'High', 'Very Low', 'Low', 'High', 'Low', 'Low', 'Low', 'Very Low',\n",
       "       'Low', 'Middle', 'High', 'Middle', 'Very Low', 'Low', 'Middle',\n",
       "       'Low', 'Middle', 'Middle', 'Very Low', 'Low', 'Middle', 'Middle',\n",
       "       'Low', 'High', 'Low', 'Low', 'Very Low', 'Middle', 'Middle', 'Low',\n",
       "       'High', 'Low', 'Middle', 'High', 'High', 'Very Low', 'Low',\n",
       "       'Middle', 'Very Low', 'High', 'Low', 'High', 'Very Low', 'High',\n",
       "       'Low', 'Low', 'High', 'Low', 'Middle', 'Low', 'Low', 'Low', 'Low',\n",
       "       'Low', 'High', 'High', 'Low', 'High', 'Middle'], dtype='<U8')"
      ]
     },
     "execution_count": 20,
     "metadata": {},
     "output_type": "execute_result"
    }
   ],
   "source": [
    "rev_lvl_map = {lvl_map.get(k) : k for k in lvl_map.keys()}\n",
    "np.vectorize(rev_lvl_map.get)(res)"
   ]
  },
  {
   "cell_type": "code",
   "execution_count": null,
   "metadata": {},
   "outputs": [],
   "source": []
  }
 ],
 "metadata": {
  "kernelspec": {
   "display_name": "Python 3",
   "language": "python",
   "name": "python3"
  },
  "language_info": {
   "codemirror_mode": {
    "name": "ipython",
    "version": 3
   },
   "file_extension": ".py",
   "mimetype": "text/x-python",
   "name": "python",
   "nbconvert_exporter": "python",
   "pygments_lexer": "ipython3",
   "version": "3.6.4"
  }
 },
 "nbformat": 4,
 "nbformat_minor": 2
}
