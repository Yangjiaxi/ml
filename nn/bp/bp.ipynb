{
 "cells": [
  {
   "cell_type": "code",
   "execution_count": 2,
   "metadata": {},
   "outputs": [],
   "source": [
    "import pandas as pd\n",
    "import numpy as np"
   ]
  },
  {
   "cell_type": "code",
   "execution_count": 3,
   "metadata": {},
   "outputs": [],
   "source": [
    "path = \"student.xls\""
   ]
  },
  {
   "cell_type": "code",
   "execution_count": 4,
   "metadata": {},
   "outputs": [],
   "source": [
    "def load_file(file):\n",
    "    lvl_map = {\n",
    "        \"High\" : 0,\n",
    "        \"Middle\" : 1,\n",
    "        \"Low\" : 2,\n",
    "        \"very_low\" : 3,\n",
    "        \"Very Low\" : 3\n",
    "    }\n",
    "    train_ori = pd.read_excel(file, sheet_name=\"Training_Data\")\n",
    "    test_ori = pd.read_excel(file, sheet_name=\"Test_Data\")\n",
    "    train_label = np.array(train_ori.iloc[:, -1].map(lvl_map)).astype(np.int).reshape((-1, ))\n",
    "    test_label = np.array(test_ori.iloc[:, -1].map(lvl_map)).astype(np.int).reshape((-1, ))\n",
    "    train_data = np.delete(np.array(train_ori), -1, -1).astype(np.float)\n",
    "    test_data = np.delete(np.array(test_ori), -1, -1).astype(np.float)\n",
    "    return train_data, train_label, test_data, test_label, lvl_map"
   ]
  },
  {
   "cell_type": "code",
   "execution_count": 5,
   "metadata": {},
   "outputs": [
    {
     "output_type": "error",
     "ename": "ImportError",
     "evalue": "Missing optional dependency 'xlrd'. Install xlrd >= 1.0.0 for Excel support Use pip or conda to install xlrd.",
     "traceback": [
      "\u001b[0;31m---------------------------------------------------------------------------\u001b[0m",
      "\u001b[0;31mImportError\u001b[0m                               Traceback (most recent call last)",
      "\u001b[0;32m<ipython-input-5-1b19b04dc14e>\u001b[0m in \u001b[0;36m<module>\u001b[0;34m\u001b[0m\n\u001b[0;32m----> 1\u001b[0;31m \u001b[0mtrain_data\u001b[0m\u001b[0;34m,\u001b[0m \u001b[0mtrain_label\u001b[0m\u001b[0;34m,\u001b[0m \u001b[0mtest_data\u001b[0m\u001b[0;34m,\u001b[0m \u001b[0mtest_label\u001b[0m\u001b[0;34m,\u001b[0m \u001b[0mlvl_map\u001b[0m \u001b[0;34m=\u001b[0m \u001b[0mload_file\u001b[0m\u001b[0;34m(\u001b[0m\u001b[0mpath\u001b[0m\u001b[0;34m)\u001b[0m\u001b[0;34m\u001b[0m\u001b[0;34m\u001b[0m\u001b[0m\n\u001b[0m",
      "\u001b[0;32m<ipython-input-4-3934667a9e22>\u001b[0m in \u001b[0;36mload_file\u001b[0;34m(file)\u001b[0m\n\u001b[1;32m      7\u001b[0m         \u001b[0;34m\"Very Low\"\u001b[0m \u001b[0;34m:\u001b[0m \u001b[0;36m3\u001b[0m\u001b[0;34m\u001b[0m\u001b[0;34m\u001b[0m\u001b[0m\n\u001b[1;32m      8\u001b[0m     }\n\u001b[0;32m----> 9\u001b[0;31m     \u001b[0mtrain_ori\u001b[0m \u001b[0;34m=\u001b[0m \u001b[0mpd\u001b[0m\u001b[0;34m.\u001b[0m\u001b[0mread_excel\u001b[0m\u001b[0;34m(\u001b[0m\u001b[0mfile\u001b[0m\u001b[0;34m,\u001b[0m \u001b[0msheet_name\u001b[0m\u001b[0;34m=\u001b[0m\u001b[0;34m\"Training_Data\"\u001b[0m\u001b[0;34m)\u001b[0m\u001b[0;34m\u001b[0m\u001b[0;34m\u001b[0m\u001b[0m\n\u001b[0m\u001b[1;32m     10\u001b[0m     \u001b[0mtest_ori\u001b[0m \u001b[0;34m=\u001b[0m \u001b[0mpd\u001b[0m\u001b[0;34m.\u001b[0m\u001b[0mread_excel\u001b[0m\u001b[0;34m(\u001b[0m\u001b[0mfile\u001b[0m\u001b[0;34m,\u001b[0m \u001b[0msheet_name\u001b[0m\u001b[0;34m=\u001b[0m\u001b[0;34m\"Test_Data\"\u001b[0m\u001b[0;34m)\u001b[0m\u001b[0;34m\u001b[0m\u001b[0;34m\u001b[0m\u001b[0m\n\u001b[1;32m     11\u001b[0m     \u001b[0mtrain_label\u001b[0m \u001b[0;34m=\u001b[0m \u001b[0mnp\u001b[0m\u001b[0;34m.\u001b[0m\u001b[0marray\u001b[0m\u001b[0;34m(\u001b[0m\u001b[0mtrain_ori\u001b[0m\u001b[0;34m.\u001b[0m\u001b[0miloc\u001b[0m\u001b[0;34m[\u001b[0m\u001b[0;34m:\u001b[0m\u001b[0;34m,\u001b[0m \u001b[0;34m-\u001b[0m\u001b[0;36m1\u001b[0m\u001b[0;34m]\u001b[0m\u001b[0;34m.\u001b[0m\u001b[0mmap\u001b[0m\u001b[0;34m(\u001b[0m\u001b[0mlvl_map\u001b[0m\u001b[0;34m)\u001b[0m\u001b[0;34m)\u001b[0m\u001b[0;34m.\u001b[0m\u001b[0mastype\u001b[0m\u001b[0;34m(\u001b[0m\u001b[0mnp\u001b[0m\u001b[0;34m.\u001b[0m\u001b[0mint\u001b[0m\u001b[0;34m)\u001b[0m\u001b[0;34m.\u001b[0m\u001b[0mreshape\u001b[0m\u001b[0;34m(\u001b[0m\u001b[0;34m(\u001b[0m\u001b[0;34m-\u001b[0m\u001b[0;36m1\u001b[0m\u001b[0;34m,\u001b[0m \u001b[0;34m)\u001b[0m\u001b[0;34m)\u001b[0m\u001b[0;34m\u001b[0m\u001b[0;34m\u001b[0m\u001b[0m\n",
      "\u001b[0;32m~/miniconda3/lib/python3.6/site-packages/pandas/io/excel/_base.py\u001b[0m in \u001b[0;36mread_excel\u001b[0;34m(io, sheet_name, header, names, index_col, usecols, squeeze, dtype, engine, converters, true_values, false_values, skiprows, nrows, na_values, keep_default_na, verbose, parse_dates, date_parser, thousands, comment, skipfooter, convert_float, mangle_dupe_cols, **kwds)\u001b[0m\n\u001b[1;32m    302\u001b[0m \u001b[0;34m\u001b[0m\u001b[0m\n\u001b[1;32m    303\u001b[0m     \u001b[0;32mif\u001b[0m \u001b[0;32mnot\u001b[0m \u001b[0misinstance\u001b[0m\u001b[0;34m(\u001b[0m\u001b[0mio\u001b[0m\u001b[0;34m,\u001b[0m \u001b[0mExcelFile\u001b[0m\u001b[0;34m)\u001b[0m\u001b[0;34m:\u001b[0m\u001b[0;34m\u001b[0m\u001b[0;34m\u001b[0m\u001b[0m\n\u001b[0;32m--> 304\u001b[0;31m         \u001b[0mio\u001b[0m \u001b[0;34m=\u001b[0m \u001b[0mExcelFile\u001b[0m\u001b[0;34m(\u001b[0m\u001b[0mio\u001b[0m\u001b[0;34m,\u001b[0m \u001b[0mengine\u001b[0m\u001b[0;34m=\u001b[0m\u001b[0mengine\u001b[0m\u001b[0;34m)\u001b[0m\u001b[0;34m\u001b[0m\u001b[0;34m\u001b[0m\u001b[0m\n\u001b[0m\u001b[1;32m    305\u001b[0m     \u001b[0;32melif\u001b[0m \u001b[0mengine\u001b[0m \u001b[0;32mand\u001b[0m \u001b[0mengine\u001b[0m \u001b[0;34m!=\u001b[0m \u001b[0mio\u001b[0m\u001b[0;34m.\u001b[0m\u001b[0mengine\u001b[0m\u001b[0;34m:\u001b[0m\u001b[0;34m\u001b[0m\u001b[0;34m\u001b[0m\u001b[0m\n\u001b[1;32m    306\u001b[0m         raise ValueError(\n",
      "\u001b[0;32m~/miniconda3/lib/python3.6/site-packages/pandas/io/excel/_base.py\u001b[0m in \u001b[0;36m__init__\u001b[0;34m(self, io, engine)\u001b[0m\n\u001b[1;32m    822\u001b[0m         \u001b[0mself\u001b[0m\u001b[0;34m.\u001b[0m\u001b[0m_io\u001b[0m \u001b[0;34m=\u001b[0m \u001b[0mstringify_path\u001b[0m\u001b[0;34m(\u001b[0m\u001b[0mio\u001b[0m\u001b[0;34m)\u001b[0m\u001b[0;34m\u001b[0m\u001b[0;34m\u001b[0m\u001b[0m\n\u001b[1;32m    823\u001b[0m \u001b[0;34m\u001b[0m\u001b[0m\n\u001b[0;32m--> 824\u001b[0;31m         \u001b[0mself\u001b[0m\u001b[0;34m.\u001b[0m\u001b[0m_reader\u001b[0m \u001b[0;34m=\u001b[0m \u001b[0mself\u001b[0m\u001b[0;34m.\u001b[0m\u001b[0m_engines\u001b[0m\u001b[0;34m[\u001b[0m\u001b[0mengine\u001b[0m\u001b[0;34m]\u001b[0m\u001b[0;34m(\u001b[0m\u001b[0mself\u001b[0m\u001b[0;34m.\u001b[0m\u001b[0m_io\u001b[0m\u001b[0;34m)\u001b[0m\u001b[0;34m\u001b[0m\u001b[0;34m\u001b[0m\u001b[0m\n\u001b[0m\u001b[1;32m    825\u001b[0m \u001b[0;34m\u001b[0m\u001b[0m\n\u001b[1;32m    826\u001b[0m     \u001b[0;32mdef\u001b[0m \u001b[0m__fspath__\u001b[0m\u001b[0;34m(\u001b[0m\u001b[0mself\u001b[0m\u001b[0;34m)\u001b[0m\u001b[0;34m:\u001b[0m\u001b[0;34m\u001b[0m\u001b[0;34m\u001b[0m\u001b[0m\n",
      "\u001b[0;32m~/miniconda3/lib/python3.6/site-packages/pandas/io/excel/_xlrd.py\u001b[0m in \u001b[0;36m__init__\u001b[0;34m(self, filepath_or_buffer)\u001b[0m\n\u001b[1;32m     18\u001b[0m         \"\"\"\n\u001b[1;32m     19\u001b[0m         \u001b[0merr_msg\u001b[0m \u001b[0;34m=\u001b[0m \u001b[0;34m\"Install xlrd >= 1.0.0 for Excel support\"\u001b[0m\u001b[0;34m\u001b[0m\u001b[0;34m\u001b[0m\u001b[0m\n\u001b[0;32m---> 20\u001b[0;31m         \u001b[0mimport_optional_dependency\u001b[0m\u001b[0;34m(\u001b[0m\u001b[0;34m\"xlrd\"\u001b[0m\u001b[0;34m,\u001b[0m \u001b[0mextra\u001b[0m\u001b[0;34m=\u001b[0m\u001b[0merr_msg\u001b[0m\u001b[0;34m)\u001b[0m\u001b[0;34m\u001b[0m\u001b[0;34m\u001b[0m\u001b[0m\n\u001b[0m\u001b[1;32m     21\u001b[0m         \u001b[0msuper\u001b[0m\u001b[0;34m(\u001b[0m\u001b[0;34m)\u001b[0m\u001b[0;34m.\u001b[0m\u001b[0m__init__\u001b[0m\u001b[0;34m(\u001b[0m\u001b[0mfilepath_or_buffer\u001b[0m\u001b[0;34m)\u001b[0m\u001b[0;34m\u001b[0m\u001b[0;34m\u001b[0m\u001b[0m\n\u001b[1;32m     22\u001b[0m \u001b[0;34m\u001b[0m\u001b[0m\n",
      "\u001b[0;32m~/miniconda3/lib/python3.6/site-packages/pandas/compat/_optional.py\u001b[0m in \u001b[0;36mimport_optional_dependency\u001b[0;34m(name, extra, raise_on_missing, on_version)\u001b[0m\n\u001b[1;32m     90\u001b[0m     \u001b[0;32mexcept\u001b[0m \u001b[0mImportError\u001b[0m\u001b[0;34m:\u001b[0m\u001b[0;34m\u001b[0m\u001b[0;34m\u001b[0m\u001b[0m\n\u001b[1;32m     91\u001b[0m         \u001b[0;32mif\u001b[0m \u001b[0mraise_on_missing\u001b[0m\u001b[0;34m:\u001b[0m\u001b[0;34m\u001b[0m\u001b[0;34m\u001b[0m\u001b[0m\n\u001b[0;32m---> 92\u001b[0;31m             \u001b[0;32mraise\u001b[0m \u001b[0mImportError\u001b[0m\u001b[0;34m(\u001b[0m\u001b[0mmsg\u001b[0m\u001b[0;34m)\u001b[0m \u001b[0;32mfrom\u001b[0m \u001b[0;32mNone\u001b[0m\u001b[0;34m\u001b[0m\u001b[0;34m\u001b[0m\u001b[0m\n\u001b[0m\u001b[1;32m     93\u001b[0m         \u001b[0;32melse\u001b[0m\u001b[0;34m:\u001b[0m\u001b[0;34m\u001b[0m\u001b[0;34m\u001b[0m\u001b[0m\n\u001b[1;32m     94\u001b[0m             \u001b[0;32mreturn\u001b[0m \u001b[0;32mNone\u001b[0m\u001b[0;34m\u001b[0m\u001b[0;34m\u001b[0m\u001b[0m\n",
      "\u001b[0;31mImportError\u001b[0m: Missing optional dependency 'xlrd'. Install xlrd >= 1.0.0 for Excel support Use pip or conda to install xlrd."
     ]
    }
   ],
   "source": [
    "train_data, train_label, test_data, test_label, lvl_map = load_file(path)"
   ]
  },
  {
   "cell_type": "code",
   "execution_count": 6,
   "metadata": {},
   "outputs": [],
   "source": [
    "class FC:\n",
    "    def __init__(self, W, b, alpha_0, decay, epoch_drop):\n",
    "        self.W = W.copy()\n",
    "        self.b = b.copy()\n",
    "        self.alpha_0 = alpha_0\n",
    "        self.decay = decay\n",
    "        self.epoch_drop = epoch_drop\n",
    "        self.count = 0\n",
    "\n",
    "    def forward(self, x):\n",
    "        self.x = x.copy()\n",
    "        self.m, self.n = x.shape\n",
    "        return np.dot(self.x, self.W) + self.b\n",
    "\n",
    "    def backprop(self, back_grad):\n",
    "        self.grad_W = np.dot(self.x.T, back_grad)\n",
    "        self.grad_b = np.dot(np.ones(self.m), back_grad)\n",
    "        self.grad = np.dot(back_grad, self.W.T)\n",
    "        return self.grad\n",
    "\n",
    "    def l_rate(self):\n",
    "        lrate = self.alpha_0 * (self.decay ** (np.floor((1 + self.count) / self.epoch_drop)))\n",
    "        self.count += 1\n",
    "        return lrate\n",
    "    \n",
    "    def update(self):\n",
    "        alpha = self.l_rate()\n",
    "        self.W -= alpha * self.grad_W\n",
    "        self.b -= alpha * self.grad_b"
   ]
  },
  {
   "cell_type": "code",
   "execution_count": 7,
   "metadata": {},
   "outputs": [],
   "source": [
    "class Sigmoid:\n",
    "    def forward(self, x):\n",
    "        self.x = x.copy()\n",
    "        self.sig_res = 1 / (1 + np.exp(-x))\n",
    "        return self.sig_res\n",
    "    \n",
    "    def backprop(self, back_grad):\n",
    "        grad = back_grad * self.sig_res * (1 - self.sig_res)\n",
    "        return grad"
   ]
  },
  {
   "cell_type": "code",
   "execution_count": 8,
   "metadata": {},
   "outputs": [],
   "source": [
    "class Relu:\n",
    "    def forward(self, x):\n",
    "        self.x = x.copy()\n",
    "        return np.maximum(x, 0)\n",
    "\n",
    "    def backprop(self, back_grad):\n",
    "        grad = back_grad.copy()\n",
    "        grad[self.x < 0] = 0\n",
    "        return grad"
   ]
  },
  {
   "cell_type": "code",
   "execution_count": 9,
   "metadata": {},
   "outputs": [],
   "source": [
    "class Leaky_Relu:\n",
    "    def forward(self, x):\n",
    "        self.x = x.copy()\n",
    "        return np.maximum(x, self.x * 0.01)\n",
    "\n",
    "    def backprop(self, back_grad):\n",
    "        grad = back_grad.copy()\n",
    "        grad[self.x < 0] = grad[self.x < 0] * 0.01\n",
    "        return grad"
   ]
  },
  {
   "cell_type": "code",
   "execution_count": 10,
   "metadata": {},
   "outputs": [],
   "source": [
    "class Tanh:\n",
    "    def forward(self, x):\n",
    "        self.x = x.copy()\n",
    "        self.tanh = np.tanh(x)\n",
    "        return self.tanh\n",
    "    \n",
    "    def backprop(self, back_grad):\n",
    "        grad = back_grad * (1 - self.tanh ** 2)\n",
    "        return grad"
   ]
  },
  {
   "cell_type": "code",
   "execution_count": 11,
   "metadata": {},
   "outputs": [],
   "source": [
    "class Arctan:\n",
    "    def forward(self, x):\n",
    "        self.x = x.copy()\n",
    "        return np.arctan(self.x)\n",
    "    \n",
    "    def backprop(self, back_grad):\n",
    "        grad = back_grad / (1 + self.x ** 2)\n",
    "        return grad"
   ]
  },
  {
   "cell_type": "code",
   "execution_count": 12,
   "metadata": {},
   "outputs": [],
   "source": [
    "class SoftPlus:\n",
    "    def forward(self, x):\n",
    "        self.x = x.copy()\n",
    "        return np.log(1 + np.exp(self.x))\n",
    "    \n",
    "    def backprop(self, back_grad):\n",
    "        grad = back_grad / (1 + np.exp(-self.x))\n",
    "        return grad"
   ]
  },
  {
   "cell_type": "code",
   "execution_count": 13,
   "metadata": {},
   "outputs": [],
   "source": [
    "class SoftSign:\n",
    "    def forward(self, x):\n",
    "        self.x = x.copy()\n",
    "        return self.x / (1 + np.abs(self.x))\n",
    "    \n",
    "    def backprop(self, back_grad):\n",
    "        grad = back_grad / (1 + np.abs(self.x) ** 2)\n",
    "        return grad"
   ]
  },
  {
   "cell_type": "code",
   "execution_count": 14,
   "metadata": {},
   "outputs": [],
   "source": [
    "class Softmax:\n",
    "    def forward(self, x, y):\n",
    "        self.x = (x.copy() - x.max(axis=1).reshape(-1, 1))\n",
    "        self.y = y.copy()\n",
    "        self.m, self.n = self.x.shape\n",
    "        self.denom = np.sum(np.exp(x), axis=1).reshape((-1, 1))\n",
    "        self.softmax = np.exp(x) / self.denom\n",
    "        loss = 0\n",
    "        for i in range(self.m):\n",
    "            loss -= np.log(self.softmax[i, y[i]])\n",
    "        return loss / self.m;\n",
    "\n",
    "    def dirac(self, a, b):\n",
    "        return 1 if a == b else 0\n",
    "    \n",
    "    def backprop(self):\n",
    "        grad = np.zeros([self.m, self.n])\n",
    "        for i in range(self.m):\n",
    "            for j in range(self.n):\n",
    "                grad[i, j] = (self.softmax[i, j] - self.dirac(j, self.y[i])) / self.m\n",
    "        return grad"
   ]
  },
  {
   "cell_type": "code",
   "execution_count": 15,
   "metadata": {},
   "outputs": [],
   "source": [
    "def bp(train_data, \n",
    "       train_label, \n",
    "       test_data, \n",
    "       test_label, \n",
    "       epochs, \n",
    "       activation, \n",
    "       alpha_0, \n",
    "       decay, \n",
    "       epochs_drop, \n",
    "       result_require=False):\n",
    "    \n",
    "    W1 = np.random.randn(5, 16) / np.sqrt(6)\n",
    "    b1 = np.zeros(16)\n",
    "    W2 = np.random.randn(16, 4) / np.sqrt(6)\n",
    "    b2 = np.zeros(4)\n",
    "    \n",
    "    activation_function_dict = {\n",
    "        \"arctan\"   : Arctan,\n",
    "        \"l_relu\"   : Leaky_Relu, \n",
    "        \"relu\"     : Relu, \n",
    "        \"sigmoid\"  : Sigmoid, \n",
    "        \"tanh\"     : Tanh, \n",
    "        \"softplus\" : SoftPlus,\n",
    "        \"softsign\" : SoftSign\n",
    "    }\n",
    "    \n",
    "    fc1 = FC(W1, b1, alpha_0, decay, epochs_drop)\n",
    "    act_f1 = activation_function_dict[activation]()\n",
    "    fc2 = FC(W2, b2, alpha_0, decay, epochs_drop)\n",
    "    softmax = Softmax()\n",
    "\n",
    "    # TRAINING BEGIN\n",
    "    for i in range(1, epochs + 1):\n",
    "        h1 = fc1.forward(train_data)\n",
    "        h2 = act_f1.forward(h1)\n",
    "        h3 = fc2.forward(h2)\n",
    "        loss = softmax.forward(h3, train_label)\n",
    "\n",
    "        if i % (epochs / 5) == 0:\n",
    "            print(\"After %d/%d epochs, loss : %f\" % (i, epochs, loss))\n",
    "\n",
    "        h3_grad = softmax.backprop()\n",
    "        h2_grad = fc2.backprop(h3_grad)\n",
    "        fc2.update()\n",
    "        h1_grad = act_f1.backprop(h2_grad)\n",
    "        x_grad = fc1.backprop(h1_grad)  # x_grad is useless in this supervised learning\n",
    "        fc1.update()\n",
    "    # TRAINING FINISH\n",
    "    \n",
    "    test_h1 = fc1.forward(test_data)\n",
    "    test_h2 = act_f1.forward(test_h1)\n",
    "    test_h3 = fc2.forward(test_h2)\n",
    "    pred = np.argmax(test_h3, 1)\n",
    "\n",
    "    acc = np.mean(pred == test_label)\n",
    "\n",
    "    print('test acc: ', acc)\n",
    "    \n",
    "    if result_require == True:\n",
    "        return pred"
   ]
  },
  {
   "cell_type": "code",
   "execution_count": 16,
   "metadata": {
    "scrolled": false
   },
   "outputs": [
    {
     "output_type": "stream",
     "name": "stdout",
     "text": "Method : sigmoid\n"
    },
    {
     "output_type": "error",
     "ename": "NameError",
     "evalue": "name 'train_data' is not defined",
     "traceback": [
      "\u001b[0;31m---------------------------------------------------------------------------\u001b[0m",
      "\u001b[0;31mNameError\u001b[0m                                 Traceback (most recent call last)",
      "\u001b[0;32m<ipython-input-16-5d8d1bb09301>\u001b[0m in \u001b[0;36m<module>\u001b[0;34m\u001b[0m\n\u001b[1;32m     11\u001b[0m \u001b[0;32mfor\u001b[0m \u001b[0mmethod\u001b[0m \u001b[0;32min\u001b[0m \u001b[0mactivation_function_list\u001b[0m\u001b[0;34m:\u001b[0m\u001b[0;34m\u001b[0m\u001b[0;34m\u001b[0m\u001b[0m\n\u001b[1;32m     12\u001b[0m     \u001b[0mprint\u001b[0m\u001b[0;34m(\u001b[0m\u001b[0;34m\"Method : %s\"\u001b[0m \u001b[0;34m%\u001b[0m \u001b[0mmethod\u001b[0m\u001b[0;34m)\u001b[0m\u001b[0;34m\u001b[0m\u001b[0;34m\u001b[0m\u001b[0m\n\u001b[0;32m---> 13\u001b[0;31m     bp(train_data, \n\u001b[0m\u001b[1;32m     14\u001b[0m        \u001b[0mtrain_label\u001b[0m\u001b[0;34m,\u001b[0m\u001b[0;34m\u001b[0m\u001b[0;34m\u001b[0m\u001b[0m\n\u001b[1;32m     15\u001b[0m        \u001b[0mtest_data\u001b[0m\u001b[0;34m,\u001b[0m\u001b[0;34m\u001b[0m\u001b[0;34m\u001b[0m\u001b[0m\n",
      "\u001b[0;31mNameError\u001b[0m: name 'train_data' is not defined"
     ]
    }
   ],
   "source": [
    "activation_function_list = [\n",
    "    \"sigmoid\", \n",
    "    \"tanh\", \n",
    "    \"arctan\", \n",
    "    \"relu\", \n",
    "    \"l_relu\", \n",
    "    \"softplus\",\n",
    "    \"softsign\"\n",
    "]\n",
    "\n",
    "for method in activation_function_list:\n",
    "    print(\"Method : %s\" % method)\n",
    "    bp(train_data, \n",
    "       train_label, \n",
    "       test_data, \n",
    "       test_label, \n",
    "       epochs=5000,\n",
    "       activation=method, \n",
    "       alpha_0=0.05, \n",
    "       decay=0.99, \n",
    "       epochs_drop=1000)\n",
    "    print(\"------------------------------------\")"
   ]
  },
  {
   "cell_type": "code",
   "execution_count": 17,
   "metadata": {},
   "outputs": [
    {
     "output_type": "error",
     "ename": "NameError",
     "evalue": "name 'train_data' is not defined",
     "traceback": [
      "\u001b[0;31m---------------------------------------------------------------------------\u001b[0m",
      "\u001b[0;31mNameError\u001b[0m                                 Traceback (most recent call last)",
      "\u001b[0;32m<ipython-input-17-7ad1c2d74b8d>\u001b[0m in \u001b[0;36m<module>\u001b[0;34m\u001b[0m\n\u001b[0;32m----> 1\u001b[0;31m res = bp(train_data, \n\u001b[0m\u001b[1;32m      2\u001b[0m          \u001b[0mtrain_label\u001b[0m\u001b[0;34m,\u001b[0m\u001b[0;34m\u001b[0m\u001b[0;34m\u001b[0m\u001b[0m\n\u001b[1;32m      3\u001b[0m          \u001b[0mtest_data\u001b[0m\u001b[0;34m,\u001b[0m\u001b[0;34m\u001b[0m\u001b[0;34m\u001b[0m\u001b[0m\n\u001b[1;32m      4\u001b[0m          \u001b[0mtest_label\u001b[0m\u001b[0;34m,\u001b[0m\u001b[0;34m\u001b[0m\u001b[0;34m\u001b[0m\u001b[0m\n\u001b[1;32m      5\u001b[0m          \u001b[0mepochs\u001b[0m\u001b[0;34m=\u001b[0m\u001b[0;36m8000\u001b[0m\u001b[0;34m,\u001b[0m\u001b[0;34m\u001b[0m\u001b[0;34m\u001b[0m\u001b[0m\n",
      "\u001b[0;31mNameError\u001b[0m: name 'train_data' is not defined"
     ]
    }
   ],
   "source": [
    "res = bp(train_data, \n",
    "         train_label, \n",
    "         test_data, \n",
    "         test_label, \n",
    "         epochs=8000,\n",
    "         activation=\"softplus\", \n",
    "         alpha_0=0.1, \n",
    "         decay=0.99, \n",
    "         epochs_drop=1000, \n",
    "         result_require=True)"
   ]
  },
  {
   "cell_type": "code",
   "execution_count": 18,
   "metadata": {},
   "outputs": [
    {
     "output_type": "error",
     "ename": "NameError",
     "evalue": "name 'lvl_map' is not defined",
     "traceback": [
      "\u001b[0;31m---------------------------------------------------------------------------\u001b[0m",
      "\u001b[0;31mNameError\u001b[0m                                 Traceback (most recent call last)",
      "\u001b[0;32m<ipython-input-18-39de6164b86a>\u001b[0m in \u001b[0;36m<module>\u001b[0;34m\u001b[0m\n\u001b[0;32m----> 1\u001b[0;31m \u001b[0mrev_lvl_map\u001b[0m \u001b[0;34m=\u001b[0m \u001b[0;34m{\u001b[0m\u001b[0mlvl_map\u001b[0m\u001b[0;34m.\u001b[0m\u001b[0mget\u001b[0m\u001b[0;34m(\u001b[0m\u001b[0mk\u001b[0m\u001b[0;34m)\u001b[0m \u001b[0;34m:\u001b[0m \u001b[0mk\u001b[0m \u001b[0;32mfor\u001b[0m \u001b[0mk\u001b[0m \u001b[0;32min\u001b[0m \u001b[0mlvl_map\u001b[0m\u001b[0;34m.\u001b[0m\u001b[0mkeys\u001b[0m\u001b[0;34m(\u001b[0m\u001b[0;34m)\u001b[0m\u001b[0;34m}\u001b[0m\u001b[0;34m\u001b[0m\u001b[0;34m\u001b[0m\u001b[0m\n\u001b[0m\u001b[1;32m      2\u001b[0m \u001b[0mnp\u001b[0m\u001b[0;34m.\u001b[0m\u001b[0mvectorize\u001b[0m\u001b[0;34m(\u001b[0m\u001b[0mrev_lvl_map\u001b[0m\u001b[0;34m.\u001b[0m\u001b[0mget\u001b[0m\u001b[0;34m)\u001b[0m\u001b[0;34m(\u001b[0m\u001b[0mres\u001b[0m\u001b[0;34m)\u001b[0m\u001b[0;34m\u001b[0m\u001b[0;34m\u001b[0m\u001b[0m\n",
      "\u001b[0;31mNameError\u001b[0m: name 'lvl_map' is not defined"
     ]
    }
   ],
   "source": [
    "rev_lvl_map = {lvl_map.get(k) : k for k in lvl_map.keys()}\n",
    "np.vectorize(rev_lvl_map.get)(res)"
   ]
  },
  {
   "cell_type": "code",
   "execution_count": null,
   "metadata": {},
   "outputs": [],
   "source": []
  }
 ],
 "metadata": {
  "kernelspec": {
   "display_name": "Python 3",
   "language": "python",
   "name": "python3"
  },
  "language_info": {
   "codemirror_mode": {
    "name": "ipython",
    "version": 3
   },
   "file_extension": ".py",
   "mimetype": "text/x-python",
   "name": "python",
   "nbconvert_exporter": "python",
   "pygments_lexer": "ipython3",
   "version": "3.6.10-final"
  }
 },
 "nbformat": 4,
 "nbformat_minor": 2
}