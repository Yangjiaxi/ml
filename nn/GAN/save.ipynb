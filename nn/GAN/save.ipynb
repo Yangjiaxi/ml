{
 "cells": [
  {
   "cell_type": "code",
   "execution_count": 1,
   "metadata": {},
   "outputs": [],
   "source": [
    "import imageio, os"
   ]
  },
  {
   "cell_type": "code",
   "execution_count": 2,
   "metadata": {},
   "outputs": [],
   "source": [
    "filelist = []  \n",
    "root = os.getcwd()\n",
    "pathr = os.path.join(root, \"output\")\n",
    "files = os.listdir(pathr)\n",
    "for f in files:  \n",
    "    if(os.path.isfile(pathr + '/' + f)):\n",
    "        if (os.path.splitext(f)[1] == \".jpg\"):\n",
    "            filelist.append(f)\n",
    "ff = sorted(filelist)\n",
    "images = []\n",
    "for f in ff:\n",
    "    images.append(imageio.imread(os.path.join(pathr, f)))\n",
    "imageio.mimsave(os.path.join(pathr, 'res.gif'), images, duration=0.2)"
   ]
  },
  {
   "cell_type": "code",
   "execution_count": null,
   "metadata": {},
   "outputs": [],
   "source": []
  }
 ],
 "metadata": {
  "kernelspec": {
   "display_name": "Python 3",
   "language": "python",
   "name": "python3"
  },
  "language_info": {
   "codemirror_mode": {
    "name": "ipython",
    "version": 3
   },
   "file_extension": ".py",
   "mimetype": "text/x-python",
   "name": "python",
   "nbconvert_exporter": "python",
   "pygments_lexer": "ipython3",
   "version": "3.6.4"
  }
 },
 "nbformat": 4,
 "nbformat_minor": 2
}
