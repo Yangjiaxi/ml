{
 "cells": [
  {
   "cell_type": "code",
   "execution_count": 1,
   "metadata": {},
   "outputs": [],
   "source": [
    "import numpy as np\n",
    "import matplotlib.pyplot as plt\n",
    "import os\n",
    "%matplotlib inline"
   ]
  },
  {
   "cell_type": "code",
   "execution_count": 2,
   "metadata": {},
   "outputs": [],
   "source": [
    "path = \"watermelon_4.0.txt\"\n",
    "data_str = []\n",
    "with open(path) as fr:\n",
    "    lines = fr.readlines()\n",
    "    for line in lines:\n",
    "       data_str.append(line.split())\n",
    "data = np.array(data_str).astype(np.float64)"
   ]
  },
  {
   "cell_type": "code",
   "execution_count": 12,
   "metadata": {},
   "outputs": [],
   "source": [
    "def run(data_set, k, norm=2):\n",
    "    m = data_set.shape[0]\n",
    "    mean_vector = data_set[np.random.choice(m, k, replace=False)]\n",
    "    Flag = True\n",
    "    while Flag:\n",
    "        C = []\n",
    "        for i in range(k + 1):\n",
    "            C.append([])\n",
    "        for j in range(m):\n",
    "            dj = ((np.abs((data_set[j] - mean_vector)\n",
    "                          ** norm).sum(axis=1)) ** (1 / norm)).argmin()\n",
    "            C[dj].append(data_set[j].tolist())\n",
    "        mean_prev = mean_vector.copy()\n",
    "        for i in range(k):\n",
    "            mean_vector[i] = np.array(C[i]).mean(axis=0).tolist()\n",
    "        mean_delta = np.min(np.abs(mean_prev - mean_vector))\n",
    "        if mean_delta == 0.0:\n",
    "            Flag = False\n",
    "    C[k] = mean_vector[:].tolist()\n",
    "    plot_res(C, k)"
   ]
  },
  {
   "cell_type": "code",
   "execution_count": 44,
   "metadata": {},
   "outputs": [],
   "source": [
    "def plot_res(C_set, k):\n",
    "    # print(len(C_set))\n",
    "    color_dict = ['red', 'blue', 'yellow', 'green',\n",
    "                  'gray', 'purple', 'orange', 'cyan', 'pink']\n",
    "    for i in range(k):\n",
    "        plt.scatter(\n",
    "            np.array(C_set[i])[:, 0],\n",
    "            np.array(C_set[i])[:, 1],\n",
    "            color=color_dict[i])\n",
    "        for pt in C_set[i]:\n",
    "            plt.plot(\n",
    "                [pt[0], C_set[-1][i][0]],\n",
    "                [pt[1], C_set[-1][i][1]],\n",
    "                color='black',\n",
    "                linewidth=0.8)\n",
    "    plt.scatter(\n",
    "        np.array(C_set[-1])[:, 0],\n",
    "        np.array(C_set[-1])[:, -1],\n",
    "        color=color_dict[k],\n",
    "        marker='o',\n",
    "        s=100)\n",
    "    plt.show()"
   ]
  },
  {
   "cell_type": "code",
   "execution_count": 59,
   "metadata": {},
   "outputs": [
    {
     "data": {
      "image/png": "[encoded data removed]",
      "text/plain": [
       "<matplotlib.figure.Figure at 0x111c71898>"
      ]
     },
     "metadata": {},
     "output_type": "display_data"
    }
   ],
   "source": [
    "run(data, 6, norm=3)"
   ]
  },
  {
   "cell_type": "code",
   "execution_count": null,
   "metadata": {},
   "outputs": [],
   "source": []
  }
 ],
 "metadata": {
  "kernelspec": {
   "display_name": "Python 3",
   "language": "python",
   "name": "python3"
  },
  "language_info": {
   "codemirror_mode": {
    "name": "ipython",
    "version": 3
   },
   "file_extension": ".py",
   "mimetype": "text/x-python",
   "name": "python",
   "nbconvert_exporter": "python",
   "pygments_lexer": "ipython3",
   "version": "3.6.4"
  }
 },
 "nbformat": 4,
 "nbformat_minor": 2
}
