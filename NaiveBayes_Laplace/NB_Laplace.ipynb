{
 "cells": [
  {
   "cell_type": "code",
   "execution_count": 1,
   "metadata": {},
   "outputs": [],
   "source": [
    "import numpy as np\n",
    "import pandas as pd\n",
    "import os"
   ]
  },
  {
   "cell_type": "code",
   "execution_count": 2,
   "metadata": {},
   "outputs": [],
   "source": [
    "data_ori = pd.read_csv(\"watermelon_3.0.csv\")"
   ]
  },
  {
   "cell_type": "code",
   "execution_count": 3,
   "metadata": {},
   "outputs": [
    {
     "data": {
      "text/html": [
       "<div>\n",
       "<style scoped>\n",
       "    .dataframe tbody tr th:only-of-type {\n",
       "        vertical-align: middle;\n",
       "    }\n",
       "\n",
       "    .dataframe tbody tr th {\n",
       "        vertical-align: top;\n",
       "    }\n",
       "\n",
       "    .dataframe thead th {\n",
       "        text-align: right;\n",
       "    }\n",
       "</style>\n",
       "<table border=\"1\" class=\"dataframe\">\n",
       "  <thead>\n",
       "    <tr style=\"text-align: right;\">\n",
       "      <th></th>\n",
       "      <th>编号</th>\n",
       "      <th>色泽</th>\n",
       "      <th>根蒂</th>\n",
       "      <th>敲声</th>\n",
       "      <th>纹理</th>\n",
       "      <th>脐部</th>\n",
       "      <th>触感</th>\n",
       "      <th>密度</th>\n",
       "      <th>含糖率</th>\n",
       "      <th>好瓜</th>\n",
       "    </tr>\n",
       "  </thead>\n",
       "  <tbody>\n",
       "    <tr>\n",
       "      <th>0</th>\n",
       "      <td>1</td>\n",
       "      <td>青绿</td>\n",
       "      <td>蜷缩</td>\n",
       "      <td>浊响</td>\n",
       "      <td>清晰</td>\n",
       "      <td>凹陷</td>\n",
       "      <td>硬滑</td>\n",
       "      <td>0.697</td>\n",
       "      <td>0.460</td>\n",
       "      <td>是</td>\n",
       "    </tr>\n",
       "    <tr>\n",
       "      <th>1</th>\n",
       "      <td>2</td>\n",
       "      <td>乌黑</td>\n",
       "      <td>蜷缩</td>\n",
       "      <td>沉闷</td>\n",
       "      <td>清晰</td>\n",
       "      <td>凹陷</td>\n",
       "      <td>硬滑</td>\n",
       "      <td>0.774</td>\n",
       "      <td>0.376</td>\n",
       "      <td>是</td>\n",
       "    </tr>\n",
       "    <tr>\n",
       "      <th>2</th>\n",
       "      <td>3</td>\n",
       "      <td>乌黑</td>\n",
       "      <td>蜷缩</td>\n",
       "      <td>浊响</td>\n",
       "      <td>清晰</td>\n",
       "      <td>凹陷</td>\n",
       "      <td>硬滑</td>\n",
       "      <td>0.634</td>\n",
       "      <td>0.264</td>\n",
       "      <td>是</td>\n",
       "    </tr>\n",
       "    <tr>\n",
       "      <th>3</th>\n",
       "      <td>4</td>\n",
       "      <td>青绿</td>\n",
       "      <td>蜷缩</td>\n",
       "      <td>沉闷</td>\n",
       "      <td>清晰</td>\n",
       "      <td>凹陷</td>\n",
       "      <td>硬滑</td>\n",
       "      <td>0.608</td>\n",
       "      <td>0.318</td>\n",
       "      <td>是</td>\n",
       "    </tr>\n",
       "    <tr>\n",
       "      <th>4</th>\n",
       "      <td>5</td>\n",
       "      <td>浅白</td>\n",
       "      <td>蜷缩</td>\n",
       "      <td>浊响</td>\n",
       "      <td>清晰</td>\n",
       "      <td>凹陷</td>\n",
       "      <td>硬滑</td>\n",
       "      <td>0.556</td>\n",
       "      <td>0.215</td>\n",
       "      <td>是</td>\n",
       "    </tr>\n",
       "    <tr>\n",
       "      <th>5</th>\n",
       "      <td>6</td>\n",
       "      <td>青绿</td>\n",
       "      <td>稍蜷</td>\n",
       "      <td>浊响</td>\n",
       "      <td>清晰</td>\n",
       "      <td>稍凹</td>\n",
       "      <td>软粘</td>\n",
       "      <td>0.403</td>\n",
       "      <td>0.237</td>\n",
       "      <td>是</td>\n",
       "    </tr>\n",
       "    <tr>\n",
       "      <th>6</th>\n",
       "      <td>7</td>\n",
       "      <td>乌黑</td>\n",
       "      <td>稍蜷</td>\n",
       "      <td>浊响</td>\n",
       "      <td>稍糊</td>\n",
       "      <td>稍凹</td>\n",
       "      <td>软粘</td>\n",
       "      <td>0.481</td>\n",
       "      <td>0.149</td>\n",
       "      <td>是</td>\n",
       "    </tr>\n",
       "    <tr>\n",
       "      <th>7</th>\n",
       "      <td>8</td>\n",
       "      <td>乌黑</td>\n",
       "      <td>稍蜷</td>\n",
       "      <td>浊响</td>\n",
       "      <td>清晰</td>\n",
       "      <td>稍凹</td>\n",
       "      <td>硬滑</td>\n",
       "      <td>0.437</td>\n",
       "      <td>0.211</td>\n",
       "      <td>是</td>\n",
       "    </tr>\n",
       "    <tr>\n",
       "      <th>8</th>\n",
       "      <td>9</td>\n",
       "      <td>乌黑</td>\n",
       "      <td>稍蜷</td>\n",
       "      <td>沉闷</td>\n",
       "      <td>稍糊</td>\n",
       "      <td>稍凹</td>\n",
       "      <td>硬滑</td>\n",
       "      <td>0.666</td>\n",
       "      <td>0.091</td>\n",
       "      <td>否</td>\n",
       "    </tr>\n",
       "    <tr>\n",
       "      <th>9</th>\n",
       "      <td>10</td>\n",
       "      <td>青绿</td>\n",
       "      <td>硬挺</td>\n",
       "      <td>清脆</td>\n",
       "      <td>清晰</td>\n",
       "      <td>平坦</td>\n",
       "      <td>软粘</td>\n",
       "      <td>0.243</td>\n",
       "      <td>0.267</td>\n",
       "      <td>否</td>\n",
       "    </tr>\n",
       "    <tr>\n",
       "      <th>10</th>\n",
       "      <td>11</td>\n",
       "      <td>浅白</td>\n",
       "      <td>硬挺</td>\n",
       "      <td>清脆</td>\n",
       "      <td>模糊</td>\n",
       "      <td>平坦</td>\n",
       "      <td>硬滑</td>\n",
       "      <td>0.245</td>\n",
       "      <td>0.057</td>\n",
       "      <td>否</td>\n",
       "    </tr>\n",
       "    <tr>\n",
       "      <th>11</th>\n",
       "      <td>12</td>\n",
       "      <td>浅白</td>\n",
       "      <td>蜷缩</td>\n",
       "      <td>浊响</td>\n",
       "      <td>模糊</td>\n",
       "      <td>平坦</td>\n",
       "      <td>软粘</td>\n",
       "      <td>0.343</td>\n",
       "      <td>0.099</td>\n",
       "      <td>否</td>\n",
       "    </tr>\n",
       "    <tr>\n",
       "      <th>12</th>\n",
       "      <td>13</td>\n",
       "      <td>青绿</td>\n",
       "      <td>稍蜷</td>\n",
       "      <td>浊响</td>\n",
       "      <td>稍糊</td>\n",
       "      <td>凹陷</td>\n",
       "      <td>硬滑</td>\n",
       "      <td>0.639</td>\n",
       "      <td>0.161</td>\n",
       "      <td>否</td>\n",
       "    </tr>\n",
       "    <tr>\n",
       "      <th>13</th>\n",
       "      <td>14</td>\n",
       "      <td>浅白</td>\n",
       "      <td>稍蜷</td>\n",
       "      <td>沉闷</td>\n",
       "      <td>稍糊</td>\n",
       "      <td>凹陷</td>\n",
       "      <td>硬滑</td>\n",
       "      <td>0.657</td>\n",
       "      <td>0.198</td>\n",
       "      <td>否</td>\n",
       "    </tr>\n",
       "    <tr>\n",
       "      <th>14</th>\n",
       "      <td>15</td>\n",
       "      <td>乌黑</td>\n",
       "      <td>稍蜷</td>\n",
       "      <td>浊响</td>\n",
       "      <td>清晰</td>\n",
       "      <td>稍凹</td>\n",
       "      <td>软粘</td>\n",
       "      <td>0.360</td>\n",
       "      <td>0.370</td>\n",
       "      <td>否</td>\n",
       "    </tr>\n",
       "    <tr>\n",
       "      <th>15</th>\n",
       "      <td>16</td>\n",
       "      <td>浅白</td>\n",
       "      <td>蜷缩</td>\n",
       "      <td>浊响</td>\n",
       "      <td>模糊</td>\n",
       "      <td>平坦</td>\n",
       "      <td>硬滑</td>\n",
       "      <td>0.593</td>\n",
       "      <td>0.042</td>\n",
       "      <td>否</td>\n",
       "    </tr>\n",
       "    <tr>\n",
       "      <th>16</th>\n",
       "      <td>17</td>\n",
       "      <td>青绿</td>\n",
       "      <td>蜷缩</td>\n",
       "      <td>沉闷</td>\n",
       "      <td>稍糊</td>\n",
       "      <td>稍凹</td>\n",
       "      <td>硬滑</td>\n",
       "      <td>0.719</td>\n",
       "      <td>0.103</td>\n",
       "      <td>否</td>\n",
       "    </tr>\n",
       "  </tbody>\n",
       "</table>\n",
       "</div>"
      ],
      "text/plain": [
       "    编号  色泽  根蒂  敲声  纹理  脐部  触感     密度    含糖率 好瓜\n",
       "0    1  青绿  蜷缩  浊响  清晰  凹陷  硬滑  0.697  0.460  是\n",
       "1    2  乌黑  蜷缩  沉闷  清晰  凹陷  硬滑  0.774  0.376  是\n",
       "2    3  乌黑  蜷缩  浊响  清晰  凹陷  硬滑  0.634  0.264  是\n",
       "3    4  青绿  蜷缩  沉闷  清晰  凹陷  硬滑  0.608  0.318  是\n",
       "4    5  浅白  蜷缩  浊响  清晰  凹陷  硬滑  0.556  0.215  是\n",
       "5    6  青绿  稍蜷  浊响  清晰  稍凹  软粘  0.403  0.237  是\n",
       "6    7  乌黑  稍蜷  浊响  稍糊  稍凹  软粘  0.481  0.149  是\n",
       "7    8  乌黑  稍蜷  浊响  清晰  稍凹  硬滑  0.437  0.211  是\n",
       "8    9  乌黑  稍蜷  沉闷  稍糊  稍凹  硬滑  0.666  0.091  否\n",
       "9   10  青绿  硬挺  清脆  清晰  平坦  软粘  0.243  0.267  否\n",
       "10  11  浅白  硬挺  清脆  模糊  平坦  硬滑  0.245  0.057  否\n",
       "11  12  浅白  蜷缩  浊响  模糊  平坦  软粘  0.343  0.099  否\n",
       "12  13  青绿  稍蜷  浊响  稍糊  凹陷  硬滑  0.639  0.161  否\n",
       "13  14  浅白  稍蜷  沉闷  稍糊  凹陷  硬滑  0.657  0.198  否\n",
       "14  15  乌黑  稍蜷  浊响  清晰  稍凹  软粘  0.360  0.370  否\n",
       "15  16  浅白  蜷缩  浊响  模糊  平坦  硬滑  0.593  0.042  否\n",
       "16  17  青绿  蜷缩  沉闷  稍糊  稍凹  硬滑  0.719  0.103  否"
      ]
     },
     "execution_count": 3,
     "metadata": {},
     "output_type": "execute_result"
    }
   ],
   "source": [
    "data_ori"
   ]
  },
  {
   "cell_type": "code",
   "execution_count": 4,
   "metadata": {},
   "outputs": [],
   "source": [
    "def data_prefix(data_ori):\n",
    "    col_map = {}\n",
    "    for col in data_ori.columns[:-1]:\n",
    "        col_set = set(data_ori[col])\n",
    "        if len(col_set) <= data_ori.shape[0] * 0.85:\n",
    "            col_dict = {}\n",
    "            i = 0\n",
    "            for ele in col_set:\n",
    "                col_dict[ele] = i\n",
    "                i += 1\n",
    "            col_map[col] = col_dict\n",
    "    col_map[data_ori.columns[-1]] = {\"是\":1, \"否\":0}\n",
    "    data_fix = data_ori[:]\n",
    "    for col in data_ori.columns:\n",
    "        if col in col_map:\n",
    "            data_fix[col] = data_fix[col].map(col_map[col])\n",
    "#     label = data_fix[data_fix.columns[-1]]\n",
    "#     data = data_fix[data_fix.columns[:-1]]\n",
    "    # return data, label, col_map\n",
    "    return data_fix.drop(['编号'], axis=1), col_map"
   ]
  },
  {
   "cell_type": "code",
   "execution_count": 5,
   "metadata": {},
   "outputs": [],
   "source": [
    "data, data_map = data_prefix(data_ori)"
   ]
  },
  {
   "cell_type": "code",
   "execution_count": 6,
   "metadata": {},
   "outputs": [],
   "source": [
    "data_length = data.shape[0]\n",
    "pos_prior = ((data['好瓜']==data_map['好瓜']['是']).sum()+1) / (data_length+len(data_map['好瓜']))\n",
    "neg_prior = ((data['好瓜']==data_map['好瓜']['否']).sum()+1) / (data_length+len(data_map['好瓜']))\n",
    "pos_num = (data['好瓜']==data_map['好瓜']['是']).sum()\n",
    "neg_num = (data['好瓜']==data_map['好瓜']['否']).sum()"
   ]
  },
  {
   "cell_type": "code",
   "execution_count": 7,
   "metadata": {},
   "outputs": [
    {
     "data": {
      "text/plain": [
       "{'好瓜': {'否': 0, '是': 1},\n",
       " '敲声': {'沉闷': 0, '浊响': 1, '清脆': 2},\n",
       " '根蒂': {'硬挺': 0, '稍蜷': 1, '蜷缩': 2},\n",
       " '纹理': {'模糊': 2, '清晰': 1, '稍糊': 0},\n",
       " '脐部': {'凹陷': 0, '平坦': 2, '稍凹': 1},\n",
       " '色泽': {'乌黑': 2, '浅白': 1, '青绿': 0},\n",
       " '触感': {'硬滑': 0, '软粘': 1}}"
      ]
     },
     "execution_count": 7,
     "metadata": {},
     "output_type": "execute_result"
    }
   ],
   "source": [
    "data_map"
   ]
  },
  {
   "cell_type": "code",
   "execution_count": 8,
   "metadata": {},
   "outputs": [],
   "source": [
    "pos_map = {}\n",
    "neg_map = {}\n",
    "for cols in data.columns:\n",
    "    if cols=='好瓜':\n",
    "        pass\n",
    "    else:\n",
    "        pos_map[cols] = {}\n",
    "        neg_map[cols] = {}\n",
    "        if cols in data_map:\n",
    "            for feats in data_map[cols]:\n",
    "                pos_f = ((data[data[cols]==data_map[cols][feats]]['好瓜']==\n",
    "                          data_map['好瓜']['是']).sum()+1) / (pos_num + len(data_map[cols]))\n",
    "                neg_f = ((data[data[cols]==data_map[cols][feats]]['好瓜']==\n",
    "                          data_map['好瓜']['否']).sum()+1) / (neg_num + len(data_map[cols]))\n",
    "                pos_map[cols][feats] = round(pos_f ,3)\n",
    "                neg_map[cols][feats] = round(neg_f, 3)\n",
    "        else:\n",
    "            pos_map[cols]['mean'] = round(data[data['好瓜']==1][cols].mean(), 3)\n",
    "            neg_map[cols]['mean'] = round(data[data['好瓜']==0][cols].mean(), 3)\n",
    "            pos_map[cols]['std'] = round(data[data['好瓜']==1][cols].std(), 3)\n",
    "            neg_map[cols]['std'] = round(data[data['好瓜']==0][cols].std(), 3)"
   ]
  },
  {
   "cell_type": "code",
   "execution_count": 9,
   "metadata": {},
   "outputs": [
    {
     "data": {
      "text/plain": [
       "{'含糖率': {'mean': 0.279, 'std': 0.101},\n",
       " '密度': {'mean': 0.574, 'std': 0.129},\n",
       " '敲声': {'沉闷': 0.273, '浊响': 0.636, '清脆': 0.091},\n",
       " '根蒂': {'硬挺': 0.091, '稍蜷': 0.364, '蜷缩': 0.545},\n",
       " '纹理': {'模糊': 0.091, '清晰': 0.727, '稍糊': 0.182},\n",
       " '脐部': {'凹陷': 0.545, '平坦': 0.091, '稍凹': 0.364},\n",
       " '色泽': {'乌黑': 0.455, '浅白': 0.182, '青绿': 0.364},\n",
       " '触感': {'硬滑': 0.7, '软粘': 0.3}}"
      ]
     },
     "execution_count": 9,
     "metadata": {},
     "output_type": "execute_result"
    }
   ],
   "source": [
    "pos_map"
   ]
  },
  {
   "cell_type": "code",
   "execution_count": 10,
   "metadata": {},
   "outputs": [
    {
     "data": {
      "text/plain": [
       "{'含糖率': {'mean': 0.154, 'std': 0.108},\n",
       " '密度': {'mean': 0.496, 'std': 0.195},\n",
       " '敲声': {'沉闷': 0.333, '浊响': 0.417, '清脆': 0.25},\n",
       " '根蒂': {'硬挺': 0.25, '稍蜷': 0.417, '蜷缩': 0.333},\n",
       " '纹理': {'模糊': 0.333, '清晰': 0.25, '稍糊': 0.417},\n",
       " '脐部': {'凹陷': 0.25, '平坦': 0.417, '稍凹': 0.333},\n",
       " '色泽': {'乌黑': 0.25, '浅白': 0.417, '青绿': 0.333},\n",
       " '触感': {'硬滑': 0.636, '软粘': 0.364}}"
      ]
     },
     "execution_count": 10,
     "metadata": {},
     "output_type": "execute_result"
    }
   ],
   "source": [
    "neg_map"
   ]
  },
  {
   "cell_type": "code",
   "execution_count": 11,
   "metadata": {},
   "outputs": [],
   "source": [
    "a = pd.DataFrame(['青绿','蜷缩','浊响','清晰','凹陷','硬滑',0.697, 0.460]).T"
   ]
  },
  {
   "cell_type": "code",
   "execution_count": 12,
   "metadata": {},
   "outputs": [],
   "source": [
    "a.columns = data.columns[:-1]"
   ]
  },
  {
   "cell_type": "code",
   "execution_count": 13,
   "metadata": {},
   "outputs": [],
   "source": [
    "def NB(test):\n",
    "    pos_prob = pos_prior\n",
    "    neg_prob = neg_prior\n",
    "    for cols in test:\n",
    "        if 'mean' in pos_map[cols]: # 是连续值属性\n",
    "            pos_feat_prob = 1 / ((np.sqrt(2*np.pi)) *  pos_map[cols]['std']) *  np.exp(-((test[cols][0] - pos_map[cols]['mean'])) ** 2 / (2*pos_map[cols]['std'] ** 2))\n",
    "            pos_prob *= pos_feat_prob\n",
    "            neg_feat_prob = 1 / ((np.sqrt(2*np.pi)) *  neg_map[cols]['std']) *  np.exp(-((test[cols][0] - neg_map[cols]['mean'])) ** 2 / (2*neg_map[cols]['std'] ** 2))\n",
    "            neg_prob *= neg_feat_prob\n",
    "        else:\n",
    "            pos_prob *= pos_map[cols][test[cols][0]]\n",
    "            neg_prob *= neg_map[cols][test[cols][0]]\n",
    "    \n",
    "    return '是' if pos_prob > neg_prob else '否'"
   ]
  },
  {
   "cell_type": "code",
   "execution_count": 14,
   "metadata": {},
   "outputs": [
    {
     "data": {
      "text/plain": [
       "'是'"
      ]
     },
     "execution_count": 14,
     "metadata": {},
     "output_type": "execute_result"
    }
   ],
   "source": [
    "NB(a)"
   ]
  },
  {
   "cell_type": "code",
   "execution_count": null,
   "metadata": {},
   "outputs": [],
   "source": []
  }
 ],
 "metadata": {
  "kernelspec": {
   "display_name": "Python 3",
   "language": "python",
   "name": "python3"
  },
  "language_info": {
   "codemirror_mode": {
    "name": "ipython",
    "version": 3
   },
   "file_extension": ".py",
   "mimetype": "text/x-python",
   "name": "python",
   "nbconvert_exporter": "python",
   "pygments_lexer": "ipython3",
   "version": "3.6.4"
  }
 },
 "nbformat": 4,
 "nbformat_minor": 2
}
