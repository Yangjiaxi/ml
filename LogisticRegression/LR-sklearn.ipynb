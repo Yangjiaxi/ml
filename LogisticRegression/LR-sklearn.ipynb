{
 "cells": [
  {
   "cell_type": "code",
   "execution_count": 1,
   "metadata": {
    "collapsed": true
   },
   "outputs": [],
   "source": [
    "import numpy as np\n",
    "import pandas as pd\n",
    "from sklearn.metrics import classification_report\n",
    "from sklearn.linear_model import LogisticRegression"
   ]
  },
  {
   "cell_type": "code",
   "execution_count": 2,
   "metadata": {
    "collapsed": true
   },
   "outputs": [],
   "source": [
    "# def fix_nan_train(data):\n",
    "#     # 使用对应分类的列均值来填充nan\n",
    "#     real_some = data.loc[data.values[:,-1] == 1]\n",
    "#     fake_some = data.loc[data.values[:,-1] == 0]\n",
    "#     real_some_mod = real_some.fillna(real_some.mean(axis=0))\n",
    "#     fake_some_mod = fake_some.fillna(fake_some.mean(axis=0))\n",
    "#     data_mod = pd.concat([real_some_mod, fake_some_mod], axis=0).sort_index()\n",
    "#     return data_mod\n",
    "\n",
    "# def fix_nan_test(data):\n",
    "#     return data.fillna(data.mean(axis=0))\n",
    "    \n",
    "def fix_nan_all(data):\n",
    "    return data.fillna(1)\n",
    "\n",
    "def flatten(data):\n",
    "    data = data + data.min(axis=1).reshape((-1,1))\n",
    "    return data / data.max(axis=1).reshape((-1,1))\n",
    "    \n",
    "def load_file(file, method):\n",
    "    data = pd.read_csv(file, header=None)\n",
    "    values = fix_nan_all(data).values\n",
    "    flattened = flatten(values[:, :-1].T)\n",
    "    return np.row_stack((flattened,np.ones(flattened.shape[1]))), values[:, -1].reshape((1,-1))"
   ]
  },
  {
   "cell_type": "code",
   "execution_count": 3,
   "metadata": {
    "collapsed": true
   },
   "outputs": [],
   "source": [
    "train_data, train_label = load_file(\"salted_fish/salted_fish_train.csv\", 'train')\n",
    "test_data, test_label = load_file(\"salted_fish/salted_fish_test.csv\", 'test')"
   ]
  },
  {
   "cell_type": "code",
   "execution_count": 4,
   "metadata": {
    "collapsed": true
   },
   "outputs": [],
   "source": [
    "train_data = train_data.T\n",
    "test_data = test_data.T"
   ]
  },
  {
   "cell_type": "code",
   "execution_count": 5,
   "metadata": {
    "collapsed": true
   },
   "outputs": [],
   "source": [
    "train_label = train_label.reshape((-1,))\n",
    "test_label = test_label.reshape((-1,))"
   ]
  },
  {
   "cell_type": "code",
   "execution_count": 6,
   "metadata": {},
   "outputs": [
    {
     "data": {
      "text/plain": [
       "StandardScaler(copy=True, with_mean=True, with_std=True)"
      ]
     },
     "execution_count": 6,
     "metadata": {},
     "output_type": "execute_result"
    }
   ],
   "source": [
    "from sklearn.preprocessing import StandardScaler\n",
    "sc = StandardScaler()\n",
    "sc.fit(train_data)"
   ]
  },
  {
   "cell_type": "code",
   "execution_count": 7,
   "metadata": {},
   "outputs": [
    {
     "data": {
      "text/plain": [
       "(9,)"
      ]
     },
     "execution_count": 7,
     "metadata": {},
     "output_type": "execute_result"
    }
   ],
   "source": [
    "sc.mean_.shape"
   ]
  },
  {
   "cell_type": "code",
   "execution_count": 8,
   "metadata": {
    "collapsed": true
   },
   "outputs": [],
   "source": [
    "train_data_std = sc.fit(train_data)\n",
    "test_data_std = sc.fit(test_data)"
   ]
  },
  {
   "cell_type": "code",
   "execution_count": 9,
   "metadata": {
    "collapsed": true
   },
   "outputs": [],
   "source": [
    "lr = LogisticRegression(C=1.0, penalty='l2', max_iter=100000, tol=0.009)"
   ]
  },
  {
   "cell_type": "code",
   "execution_count": 10,
   "metadata": {},
   "outputs": [
    {
     "data": {
      "text/plain": [
       "LogisticRegression(C=1.0, class_weight=None, dual=False, fit_intercept=True,\n",
       "          intercept_scaling=1, max_iter=100000, multi_class='ovr',\n",
       "          n_jobs=1, penalty='l2', random_state=None, solver='liblinear',\n",
       "          tol=0.009, verbose=0, warm_start=False)"
      ]
     },
     "execution_count": 10,
     "metadata": {},
     "output_type": "execute_result"
    }
   ],
   "source": [
    "lr.fit(train_data, train_label)"
   ]
  },
  {
   "cell_type": "code",
   "execution_count": 11,
   "metadata": {
    "collapsed": true
   },
   "outputs": [],
   "source": [
    "test_prediction = lr.predict(test_data)\n",
    "test_score = lr.score(test_data, test_label)"
   ]
  },
  {
   "cell_type": "code",
   "execution_count": 12,
   "metadata": {},
   "outputs": [
    {
     "name": "stdout",
     "output_type": "stream",
     "text": [
      "             precision    recall  f1-score   support\n",
      "\n",
      "        0.0       0.78      0.92      0.84       178\n",
      "        1.0       0.74      0.48      0.58        90\n",
      "\n",
      "avg / total       0.76      0.77      0.75       268\n",
      "\n"
     ]
    }
   ],
   "source": [
    "print(classification_report(test_label, test_prediction))"
   ]
  },
  {
   "cell_type": "code",
   "execution_count": 13,
   "metadata": {},
   "outputs": [
    {
     "data": {
      "text/plain": [
       "0.7686567164179104"
      ]
     },
     "execution_count": 13,
     "metadata": {},
     "output_type": "execute_result"
    }
   ],
   "source": [
    "test_score"
   ]
  },
  {
   "cell_type": "code",
   "execution_count": null,
   "metadata": {
    "collapsed": true
   },
   "outputs": [],
   "source": []
  }
 ],
 "metadata": {
  "kernelspec": {
   "display_name": "Python 3",
   "language": "python",
   "name": "python3"
  },
  "language_info": {
   "codemirror_mode": {
    "name": "ipython",
    "version": 3
   },
   "file_extension": ".py",
   "mimetype": "text/x-python",
   "name": "python",
   "nbconvert_exporter": "python",
   "pygments_lexer": "ipython3",
   "version": "3.6.3"
  }
 },
 "nbformat": 4,
 "nbformat_minor": 2
}
