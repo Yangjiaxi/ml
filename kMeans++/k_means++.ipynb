{
 "cells": [
  {
   "cell_type": "code",
   "execution_count": 1,
   "metadata": {},
   "outputs": [],
   "source": [
    "import numpy as np\n",
    "import matplotlib.pyplot as plt\n",
    "import os\n",
    "%matplotlib inline"
   ]
  },
  {
   "cell_type": "code",
   "execution_count": 2,
   "metadata": {},
   "outputs": [],
   "source": [
    "path = \"watermelon_4.0.txt\"\n",
    "data_str = []\n",
    "with open(path) as fr:\n",
    "    lines = fr.readlines()\n",
    "    for line in lines:\n",
    "       data_str.append(line.split())\n",
    "data = np.array(data_str).astype(np.float64)"
   ]
  },
  {
   "cell_type": "code",
   "execution_count": 3,
   "metadata": {},
   "outputs": [],
   "source": [
    "def random_choose(data_, k):\n",
    "    m = data_.shape[0]\n",
    "    return data_[np.random.choice(m, k, replace=False)]"
   ]
  },
  {
   "cell_type": "code",
   "execution_count": 4,
   "metadata": {},
   "outputs": [],
   "source": [
    "def dist(a, b, norm=2, ax=0):\n",
    "    return ((np.abs(np.array(a) - np.array(b)) \n",
    "             ** norm).sum(axis=ax)) ** (1 / norm)"
   ]
  },
  {
   "cell_type": "code",
   "execution_count": 5,
   "metadata": {},
   "outputs": [],
   "source": [
    "def plus_plus_choose(data, k, norm):\n",
    "    m = data.shape[0]\n",
    "    # method of k_means++ to choose mean vector\n",
    "    mean_list = [np.random.choice(m, 1)]\n",
    "    means = np.array(data[mean_list[0]])\n",
    "    for i in range(k - 1):\n",
    "        dis = np.zeros(m)\n",
    "        for j in range(means.shape[0]):\n",
    "            dis += dist(means[j], data, norm, ax=1)\n",
    "        far_arg = dis.argsort()[::-1]\n",
    "        for idx in range(len(far_arg)):\n",
    "            if far_arg[idx] not in mean_list:\n",
    "                mean_list.append(far_arg[idx])\n",
    "                means = np.concatenate((means, [data[far_arg[idx]]]), axis=0)\n",
    "                # print(far_arg[idx])\n",
    "                break\n",
    "            else:\n",
    "                continue\n",
    "    # print(means)\n",
    "    return means"
   ]
  },
  {
   "cell_type": "code",
   "execution_count": 6,
   "metadata": {},
   "outputs": [],
   "source": [
    "def k_means(data_set, k, method='pp',norm=2):\n",
    "    m = data_set.shape[0]\n",
    "    well_splited = False\n",
    "    while not well_splited:\n",
    "        if method == 'random':\n",
    "            mean_vector = random_choose(data_set, k)\n",
    "        elif method == 'pp':\n",
    "            mean_vector = plus_plus_choose(data_set, k, norm)\n",
    "        else:\n",
    "            raise ValueError(\"Unsloved method [%s]\" % method)\n",
    "        Flag = True\n",
    "        while Flag:\n",
    "            C = []\n",
    "            for i in range(k + 1):\n",
    "                C.append([])\n",
    "            for j in range(m):\n",
    "                dj = ((np.abs((data_set[j] - mean_vector)\n",
    "                          ** norm).sum(axis=1)) ** (1 / norm)).argmin()\n",
    "                C[dj].append(data_set[j].tolist())\n",
    "            mean_prev = mean_vector.copy()\n",
    "            for i in range(k):\n",
    "                mean_vector[i] = np.array(C[i]).mean(axis=0).tolist()\n",
    "            mean_delta = np.min(np.abs(mean_prev - mean_vector))\n",
    "            if mean_delta == 0.0:\n",
    "                Flag = False\n",
    "        C[k] = mean_vector[:].tolist()\n",
    "        # check zero split\n",
    "        sub_shape = k_shape(C)\n",
    "        if 1 not in sub_shape:\n",
    "#             print(\"Well Generated\")\n",
    "            well_splited = True\n",
    "#         else:\n",
    "#             print(\"Generate again...\")\n",
    "    return C"
   ]
  },
  {
   "cell_type": "code",
   "execution_count": 7,
   "metadata": {},
   "outputs": [],
   "source": [
    "def plot_res(C_set):\n",
    "    # print(len(C_set))\n",
    "    k = len(C_set)-1\n",
    "    color_dict = ['red', 'blue', 'yellow', \n",
    "                  'green', 'gray', 'purple', \n",
    "                  'orange', 'cyan', 'pink', \n",
    "                  'black']\n",
    "    for i in range(k):\n",
    "        plt.scatter(\n",
    "            np.array(C_set[i])[:, 0],\n",
    "            np.array(C_set[i])[:, 1],\n",
    "            color=color_dict[i])\n",
    "        for pt in C_set[i]:\n",
    "            plt.plot(\n",
    "                [pt[0], C_set[-1][i][0]],\n",
    "                [pt[1], C_set[-1][i][1]],\n",
    "                color='black',\n",
    "                linewidth=0.8)\n",
    "    plt.scatter(\n",
    "        np.array(C_set[-1])[:, 0],\n",
    "        np.array(C_set[-1])[:, -1],\n",
    "        color=color_dict[k],\n",
    "        marker='x',\n",
    "        s=50)\n",
    "    plt.title(k)"
   ]
  },
  {
   "cell_type": "code",
   "execution_count": 8,
   "metadata": {},
   "outputs": [],
   "source": [
    "def k_shape(split_list):\n",
    "    k_l = []\n",
    "    for i in range(len(split_list)):\n",
    "        k_l.append(len(split_list[i]))\n",
    "    return k_l"
   ]
  },
  {
   "cell_type": "code",
   "execution_count": 9,
   "metadata": {},
   "outputs": [],
   "source": [
    "def avg(C, norm=2):\n",
    "    m_C = len(C)\n",
    "    avg_c = 0.0\n",
    "    for k in range(m_C):\n",
    "        for i in range(len(C[k])):\n",
    "            for j in range(i+1, len(C[k])):\n",
    "               avg_c += dist(C[k][i], C[k][j], norm)\n",
    "    avg_c = 2 * avg_c / (m_C * (m_C - 1))\n",
    "    return avg_c"
   ]
  },
  {
   "cell_type": "code",
   "execution_count": 10,
   "metadata": {},
   "outputs": [],
   "source": [
    "def DBI(C, norm=2):\n",
    "    m_C = len(C) - 1\n",
    "    db_i = 0.0\n",
    "    for i in range(m_C):\n",
    "        i_max = 0\n",
    "        for j in range(i+1, m_C):\n",
    "            tt = avg(C[i]) + avg(C[j])\n",
    "            dist_ij = dist(C[m_C][i], C[m_C][j])\n",
    "            # print(1/dist_ij)\n",
    "            tt /= dist_ij\n",
    "            if tt > i_max:\n",
    "                i_max = tt\n",
    "        db_i += i_max\n",
    "    db_i /= m_C\n",
    "    # print(m_C)\n",
    "    return db_i"
   ]
  },
  {
   "cell_type": "code",
   "execution_count": 11,
   "metadata": {},
   "outputs": [],
   "source": [
    "def k_means_auto(data_set, method='pp', norm=2, min_split=2):\n",
    "    C = {}\n",
    "    C_DBI = {}\n",
    "    for i in range(min_split, 9):\n",
    "        C[i] = k_means(data_set, i, norm=norm)\n",
    "        C_DBI[i] = DBI(C[i], norm)\n",
    "    best_ks = sorted(C_DBI,key=lambda x:C_DBI[x])[0]\n",
    "    plot_res(C[best_ks])\n",
    "    \n",
    "    k_data = C[best_ks]\n",
    "    k_res = []\n",
    "    for i in range(best_ks):\n",
    "        i_res = []\n",
    "        for j in range(len(k_data[i])):\n",
    "            i_res.append(np.where(data==k_data[i][j])[0][0])\n",
    "        k_res.append(i_res)\n",
    "    return best_ks, k_res"
   ]
  },
  {
   "cell_type": "code",
   "execution_count": 12,
   "metadata": {},
   "outputs": [
    {
     "data": {
      "image/png": "[encoded data removed]",
      "text/plain": [
       "<matplotlib.figure.Figure at 0x10f69ec88>"
      ]
     },
     "metadata": {},
     "output_type": "display_data"
    }
   ],
   "source": [
    "k, k_res = k_means_auto(data, method='pp', norm=2, min_split=3)"
   ]
  },
  {
   "cell_type": "code",
   "execution_count": null,
   "metadata": {},
   "outputs": [],
   "source": []
  }
 ],
 "metadata": {
  "kernelspec": {
   "display_name": "Python 3",
   "language": "python",
   "name": "python3"
  },
  "language_info": {
   "codemirror_mode": {
    "name": "ipython",
    "version": 3
   },
   "file_extension": ".py",
   "mimetype": "text/x-python",
   "name": "python",
   "nbconvert_exporter": "python",
   "pygments_lexer": "ipython3",
   "version": "3.6.4"
  }
 },
 "nbformat": 4,
 "nbformat_minor": 2
}
