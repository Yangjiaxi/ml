{
 "cells": [
  {
   "cell_type": "code",
   "execution_count": 1,
   "metadata": {},
   "outputs": [],
   "source": [
    "import torch\n",
    "import torch.nn as nn\n",
    "import numpy as np\n",
    "import matplotlib.pyplot as plt"
   ]
  },
  {
   "cell_type": "code",
   "execution_count": 2,
   "metadata": {},
   "outputs": [],
   "source": [
    "import seaborn as sns\n",
    "sns.set()\n",
    "sns.set_style(\"whitegrid\")\n",
    "plt.rcParams['figure.figsize'] = [4, 4]\n",
    "plt.rcParams['figure.dpi'] = 144\n",
    "plt.rcParams['font.family']=['Arial Unicode MS']"
   ]
  },
  {
   "cell_type": "code",
   "execution_count": 3,
   "metadata": {},
   "outputs": [],
   "source": [
    "from PIL import Image,ImageFont,ImageDraw\n",
    "import os\n",
    "import imageio"
   ]
  },
  {
   "cell_type": "code",
   "execution_count": 4,
   "metadata": {},
   "outputs": [],
   "source": [
    "def make_gif(up):\n",
    "    filelist = []  \n",
    "    root = os.getcwd()\n",
    "    pathr = os.path.join(root, up)\n",
    "    files = os.listdir(pathr)\n",
    "    for f in files:  \n",
    "        if(os.path.isfile(pathr + '/' + f)):\n",
    "            if (os.path.splitext(f)[1] == \".png\"):\n",
    "                filelist.append(f)\n",
    "    ff = sorted(filelist)\n",
    "    for _ in range(5):\n",
    "        ff.append(ff[-1])\n",
    "    images = []\n",
    "    for f in ff:\n",
    "        images.append(imageio.imread(os.path.join(pathr, f)))\n",
    "    imageio.mimsave(os.path.join(pathr, 'res.gif'), images, duration=0.5)"
   ]
  },
  {
   "cell_type": "code",
   "execution_count": 5,
   "metadata": {},
   "outputs": [],
   "source": [
    "# x_train = np.array([[3.3], [4.4], [5.5], [6.71], [6.93], [4.168], \n",
    "#                     [9.779], [6.182], [7.59], [2.167], [7.042], \n",
    "#                     [10.791], [5.313], [7.997], [3.1]], dtype=np.float32)\n",
    "\n",
    "# y_train = np.array([[1.7], [2.76], [2.09], [3.19], [1.694], [1.573], \n",
    "#                     [3.366], [2.596], [2.53], [1.221], [2.827], \n",
    "#                     [3.465], [1.65], [2.904], [1.3]], dtype=np.float32)"
   ]
  },
  {
   "cell_type": "code",
   "execution_count": 6,
   "metadata": {},
   "outputs": [],
   "source": [
    "x_train = np.sort(np.random.randn(20)).reshape(-1, 1).astype(np.float32)\n",
    "y_train = np.sort(np.random.randn(20)).reshape(-1, 1).astype(np.float32)"
   ]
  },
  {
   "cell_type": "code",
   "execution_count": 7,
   "metadata": {},
   "outputs": [],
   "source": [
    "X = x_train.reshape(-1, )\n",
    "Y = y_train.reshape(-1, )\n",
    "A = np.vstack([X, np.ones(len(X))]).T\n",
    "m, c = np.linalg.lstsq(A, Y, rcond=-1)[0]"
   ]
  },
  {
   "cell_type": "code",
   "execution_count": 8,
   "metadata": {},
   "outputs": [
    {
     "data": {
      "text/plain": [
       "<matplotlib.collections.PathCollection at 0x1a18595668>"
      ]
     },
     "execution_count": 8,
     "metadata": {},
     "output_type": "execute_result"
    },
    {
     "data": {
      "image/png": "[encoded data removed]",
      "text/plain": [
       "<Figure size 576x576 with 1 Axes>"
      ]
     },
     "metadata": {},
     "output_type": "display_data"
    }
   ],
   "source": [
    "plt.scatter(x_train, y_train, s=20)"
   ]
  },
  {
   "cell_type": "code",
   "execution_count": 9,
   "metadata": {},
   "outputs": [],
   "source": [
    "# Hyper-paramaters\n",
    "input_size = 1\n",
    "output_size = 1\n",
    "num_epochs = 200\n",
    "learning_rate = 0.01"
   ]
  },
  {
   "cell_type": "code",
   "execution_count": 10,
   "metadata": {},
   "outputs": [],
   "source": [
    "model = nn.Linear(input_size, output_size)"
   ]
  },
  {
   "cell_type": "code",
   "execution_count": 11,
   "metadata": {},
   "outputs": [],
   "source": [
    "criterion = nn.MSELoss()\n",
    "optimizer = torch.optim.SGD(model.parameters(), lr=learning_rate)"
   ]
  },
  {
   "cell_type": "code",
   "execution_count": 12,
   "metadata": {},
   "outputs": [],
   "source": [
    "inputs = torch.from_numpy(x_train)\n",
    "targets = torch.from_numpy(y_train)"
   ]
  },
  {
   "cell_type": "code",
   "execution_count": 13,
   "metadata": {},
   "outputs": [
    {
     "name": "stdout",
     "output_type": "stream",
     "text": [
      "5/200 Loss: 2.4084811210632324\n",
      "10/200 Loss: 2.053957462310791\n",
      "15/200 Loss: 1.7536132335662842\n",
      "20/200 Loss: 1.4991307258605957\n",
      "25/200 Loss: 1.283476710319519\n",
      "30/200 Loss: 1.1007020473480225\n",
      "35/200 Loss: 0.9457743167877197\n",
      "40/200 Loss: 0.8144348859786987\n",
      "45/200 Loss: 0.7030797600746155\n",
      "50/200 Loss: 0.6086578369140625\n",
      "55/200 Loss: 0.5285859704017639\n",
      "60/200 Loss: 0.4606766700744629\n",
      "65/200 Loss: 0.40307721495628357\n",
      "70/200 Loss: 0.35421809554100037\n",
      "75/200 Loss: 0.3127695322036743\n",
      "80/200 Loss: 0.2776049077510834\n",
      "85/200 Loss: 0.24776914715766907\n",
      "90/200 Loss: 0.22245310246944427\n",
      "95/200 Loss: 0.2009705901145935\n",
      "100/200 Loss: 0.1827399879693985\n",
      "105/200 Loss: 0.16726812720298767\n",
      "110/200 Loss: 0.1541367471218109\n",
      "115/200 Loss: 0.14299124479293823\n",
      "120/200 Loss: 0.13353081047534943\n",
      "125/200 Loss: 0.12550027668476105\n",
      "130/200 Loss: 0.11868321895599365\n",
      "135/200 Loss: 0.11289606988430023\n",
      "140/200 Loss: 0.10798297822475433\n",
      "145/200 Loss: 0.10381180793046951\n",
      "150/200 Loss: 0.10027038305997849\n",
      "155/200 Loss: 0.09726354479789734\n",
      "160/200 Loss: 0.09471043944358826\n",
      "165/200 Loss: 0.09254264831542969\n",
      "170/200 Loss: 0.09070189297199249\n",
      "175/200 Loss: 0.08913879841566086\n",
      "180/200 Loss: 0.08781146258115768\n",
      "185/200 Loss: 0.08668428659439087\n",
      "190/200 Loss: 0.08572707325220108\n",
      "195/200 Loss: 0.0849141851067543\n",
      "200/200 Loss: 0.08422379940748215\n"
     ]
    }
   ],
   "source": [
    "for epoch in range(1, num_epochs + 1):\n",
    "    outputs = model(inputs)\n",
    "    loss = criterion(outputs, targets)\n",
    "    optimizer.zero_grad()\n",
    "    loss.backward()\n",
    "    optimizer.step()\n",
    "    if epoch % 5 == 0:\n",
    "        info = \"{}/{} Loss: {}\".format(epoch, num_epochs, loss.item())\n",
    "        print(info)\n",
    "        w, b = [a.item() for a in model.parameters()]\n",
    "        plt.plot(x_train, w * x_train + b, label='Fitted line')\n",
    "        plt.plot(x_train, m * x_train + c, linestyle=\"--\", c=\"red\", label='LSTSQ')\n",
    "        plt.scatter(x_train, y_train, c=\"green\", s=20, label='Original data')\n",
    "        plt.legend()\n",
    "        name = \"pic/{:03d}.png\".format(epoch)\n",
    "        plt.savefig(name)\n",
    "        plt.close()\n",
    "        im = Image.open(name)\n",
    "        draw = ImageDraw.Draw(im)\n",
    "        newfont = ImageFont.truetype(\"Arial.ttf\", 20)\n",
    "        draw.text((0,0), info, (0,0,0), font=newfont)\n",
    "        im.save(name)\n",
    "        # plt.show()"
   ]
  },
  {
   "cell_type": "code",
   "execution_count": 14,
   "metadata": {},
   "outputs": [],
   "source": [
    "make_gif(\"pic\")"
   ]
  }
 ],
 "metadata": {
  "kernelspec": {
   "display_name": "Python 3",
   "language": "python",
   "name": "python3"
  },
  "language_info": {
   "codemirror_mode": {
    "name": "ipython",
    "version": 3
   },
   "file_extension": ".py",
   "mimetype": "text/x-python",
   "name": "python",
   "nbconvert_exporter": "python",
   "pygments_lexer": "ipython3",
   "version": "3.6.5"
  }
 },
 "nbformat": 4,
 "nbformat_minor": 2
}
