{
 "cells": [
  {
   "cell_type": "code",
   "execution_count": 1,
   "metadata": {},
   "outputs": [],
   "source": [
    "import torch\n",
    "import torch.nn as nn\n",
    "import torch.nn.functional as F\n",
    "import torch.optim as optim\n",
    "import numpy as np"
   ]
  },
  {
   "cell_type": "code",
   "execution_count": 2,
   "metadata": {},
   "outputs": [],
   "source": [
    "import torchvision\n",
    "import torchvision.transforms as transforms"
   ]
  },
  {
   "cell_type": "code",
   "execution_count": 3,
   "metadata": {},
   "outputs": [],
   "source": [
    "import matplotlib.pyplot as plt\n",
    "import seaborn as sns"
   ]
  },
  {
   "cell_type": "code",
   "execution_count": 4,
   "metadata": {},
   "outputs": [],
   "source": [
    "plt.rcParams['figure.figsize'] = [4, 4]\n",
    "plt.rcParams['figure.dpi'] = 144\n",
    "plt.rcParams['font.family']=['Arial Unicode MS']\n",
    "sns.set()\n",
    "sns.set_style(\"whitegrid\")"
   ]
  },
  {
   "cell_type": "code",
   "execution_count": 5,
   "metadata": {},
   "outputs": [
    {
     "name": "stdout",
     "output_type": "stream",
     "text": [
      "cpu\n"
     ]
    }
   ],
   "source": [
    "device = device = torch.device('cuda' if torch.cuda.is_available() else 'cpu')\n",
    "print(device)"
   ]
  },
  {
   "cell_type": "code",
   "execution_count": 6,
   "metadata": {},
   "outputs": [],
   "source": [
    "side = 28\n",
    "input_size = side ** 2\n",
    "num_classes = 10\n",
    "num_epochs = 5\n",
    "batch_size = 100\n",
    "learning_rate = 0.001"
   ]
  },
  {
   "cell_type": "code",
   "execution_count": 7,
   "metadata": {},
   "outputs": [],
   "source": [
    "train_dataset = torchvision.datasets.MNIST(root='../../dataset/mnist/',\n",
    "                                          train=True,\n",
    "                                          transform=transforms.ToTensor(),\n",
    "                                          download=True)"
   ]
  },
  {
   "cell_type": "code",
   "execution_count": 8,
   "metadata": {},
   "outputs": [],
   "source": [
    "test_dataset = torchvision.datasets.MNIST(root='../../dataset/mnist/',\n",
    "                                          train=False,\n",
    "                                          transform=transforms.ToTensor(),\n",
    "                                          download=True)"
   ]
  },
  {
   "cell_type": "code",
   "execution_count": 9,
   "metadata": {},
   "outputs": [],
   "source": [
    "train_loader = torch.utils.data.DataLoader(dataset=train_dataset,\n",
    "                                          batch_size=batch_size,\n",
    "                                          shuffle=True)"
   ]
  },
  {
   "cell_type": "code",
   "execution_count": 10,
   "metadata": {},
   "outputs": [],
   "source": [
    "test_loader = torch.utils.data.DataLoader(dataset=test_dataset,\n",
    "                                          batch_size=batch_size,\n",
    "                                          shuffle=False)"
   ]
  },
  {
   "cell_type": "code",
   "execution_count": 11,
   "metadata": {},
   "outputs": [],
   "source": [
    "class Net(nn.Module):\n",
    "    def __init__(self, input_size, num_classes):\n",
    "        super().__init__()\n",
    "        self.fc1 = nn.Linear(input_size, 500)\n",
    "        self.fc2 = nn.Linear(500, 314)\n",
    "        self.fc3 = nn.Linear(314, num_classes)\n",
    "    \n",
    "    def forward(self, x):\n",
    "        x = self.fc1(x)\n",
    "        x = F.relu(x)\n",
    "        x = self.fc2(x)\n",
    "        x = F.relu(x)\n",
    "        x = self.fc3(x)\n",
    "        return x"
   ]
  },
  {
   "cell_type": "code",
   "execution_count": 12,
   "metadata": {},
   "outputs": [],
   "source": [
    "model = Net(input_size, num_classes).to(device)"
   ]
  },
  {
   "cell_type": "code",
   "execution_count": 13,
   "metadata": {},
   "outputs": [],
   "source": [
    "criterion = nn.CrossEntropyLoss()\n",
    "optimizer = optim.Adam(model.parameters(), lr=learning_rate)"
   ]
  },
  {
   "cell_type": "code",
   "execution_count": 14,
   "metadata": {},
   "outputs": [],
   "source": [
    "total_step = len(train_loader)"
   ]
  },
  {
   "cell_type": "code",
   "execution_count": 15,
   "metadata": {},
   "outputs": [
    {
     "name": "stdout",
     "output_type": "stream",
     "text": [
      "Epoch [1/5], Step [100/600], Loss: 0.2672\n",
      "Epoch [1/5], Step [200/600], Loss: 0.2198\n",
      "Epoch [1/5], Step [300/600], Loss: 0.2244\n",
      "Epoch [1/5], Step [400/600], Loss: 0.1210\n",
      "Epoch [1/5], Step [500/600], Loss: 0.2344\n",
      "Epoch [1/5], Step [600/600], Loss: 0.0698\n",
      "Epoch [2/5], Step [100/600], Loss: 0.0980\n",
      "Epoch [2/5], Step [200/600], Loss: 0.0399\n",
      "Epoch [2/5], Step [300/600], Loss: 0.0518\n",
      "Epoch [2/5], Step [400/600], Loss: 0.0904\n",
      "Epoch [2/5], Step [500/600], Loss: 0.0990\n",
      "Epoch [2/5], Step [600/600], Loss: 0.0824\n",
      "Epoch [3/5], Step [100/600], Loss: 0.0230\n",
      "Epoch [3/5], Step [200/600], Loss: 0.0849\n",
      "Epoch [3/5], Step [300/600], Loss: 0.0558\n",
      "Epoch [3/5], Step [400/600], Loss: 0.0153\n",
      "Epoch [3/5], Step [500/600], Loss: 0.1306\n",
      "Epoch [3/5], Step [600/600], Loss: 0.0359\n",
      "Epoch [4/5], Step [100/600], Loss: 0.0555\n",
      "Epoch [4/5], Step [200/600], Loss: 0.0392\n",
      "Epoch [4/5], Step [300/600], Loss: 0.0436\n",
      "Epoch [4/5], Step [400/600], Loss: 0.0745\n",
      "Epoch [4/5], Step [500/600], Loss: 0.0655\n",
      "Epoch [4/5], Step [600/600], Loss: 0.0789\n",
      "Epoch [5/5], Step [100/600], Loss: 0.0071\n",
      "Epoch [5/5], Step [200/600], Loss: 0.0498\n",
      "Epoch [5/5], Step [300/600], Loss: 0.0211\n",
      "Epoch [5/5], Step [400/600], Loss: 0.0182\n",
      "Epoch [5/5], Step [500/600], Loss: 0.0451\n",
      "Epoch [5/5], Step [600/600], Loss: 0.1102\n"
     ]
    },
    {
     "data": {
      "text/plain": [
       "<matplotlib.legend.Legend at 0x1a22e94390>"
      ]
     },
     "execution_count": 15,
     "metadata": {},
     "output_type": "execute_result"
    },
    {
     "data": {
      "image/png": "[encoded data removed]",
      "text/plain": [
       "<Figure size 576x576 with 1 Axes>"
      ]
     },
     "metadata": {},
     "output_type": "display_data"
    }
   ],
   "source": [
    "idx = []\n",
    "losses = []\n",
    "for epoch in range(1, num_epochs + 1):\n",
    "    for i, (images, labels) in enumerate(train_loader):\n",
    "        images = images.reshape(-1, input_size).to(device)\n",
    "        labels = labels.to(device)\n",
    "        \n",
    "        outputs = model(images)\n",
    "        loss = criterion(outputs, labels)\n",
    "        \n",
    "        optimizer.zero_grad()\n",
    "        loss.backward()\n",
    "        optimizer.step()\n",
    "        \n",
    "        if (i + 1) % 100 == 0:\n",
    "            print ('Epoch [{}/{}], Step [{}/{}], Loss: {:.4f}' \n",
    "                   .format(epoch, num_epochs, i + 1, total_step, loss.item()))\n",
    "            idx.append((epoch - 1) * total_step + i + 1)\n",
    "            losses.append(loss.item())\n",
    "            \n",
    "plt.plot(idx, losses, label=\"loss\")\n",
    "plt.xlabel(\"epochs\")\n",
    "plt.ylabel(\"loss\")\n",
    "plt.legend()"
   ]
  },
  {
   "cell_type": "code",
   "execution_count": 17,
   "metadata": {},
   "outputs": [
    {
     "name": "stdout",
     "output_type": "stream",
     "text": [
      "After 10000 tests, accuracy is  : 0.974400\n"
     ]
    }
   ],
   "source": [
    "with torch.no_grad():\n",
    "    correct = 0\n",
    "    total = 0\n",
    "    for images, labels in test_loader:\n",
    "        images = images.reshape(-1, input_size).to(device)\n",
    "        labels = labels.to(device)\n",
    "        outputs = model(images)\n",
    "        pred = outputs.argmax(1)\n",
    "        total += labels.size(0)\n",
    "        correct += (pred == labels).sum()\n",
    "        acc = correct.item() / total\n",
    "    print(\"After {:5d} tests, accuracy is  : {:5f}\".format(total, acc))"
   ]
  }
 ],
 "metadata": {
  "kernelspec": {
   "display_name": "Python 3",
   "language": "python",
   "name": "python3"
  },
  "language_info": {
   "codemirror_mode": {
    "name": "ipython",
    "version": 3
   },
   "file_extension": ".py",
   "mimetype": "text/x-python",
   "name": "python",
   "nbconvert_exporter": "python",
   "pygments_lexer": "ipython3",
   "version": "3.6.5"
  }
 },
 "nbformat": 4,
 "nbformat_minor": 2
}
