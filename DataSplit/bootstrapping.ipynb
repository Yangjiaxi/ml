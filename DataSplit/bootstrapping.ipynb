{
 "cells": [
  {
   "cell_type": "code",
   "execution_count": 1,
   "metadata": {},
   "outputs": [],
   "source": [
    "import numpy as np\n",
    "import pandas as pd\n",
    "import data_prefix"
   ]
  },
  {
   "cell_type": "code",
   "execution_count": 2,
   "metadata": {},
   "outputs": [],
   "source": [
    "train_data_ori, train_label_ori = data_prefix.get_data(\"titanic/train.csv\")"
   ]
  },
  {
   "cell_type": "code",
   "execution_count": 3,
   "metadata": {},
   "outputs": [
    {
     "data": {
      "text/html": [
       "<div>\n",
       "<style scoped>\n",
       "    .dataframe tbody tr th:only-of-type {\n",
       "        vertical-align: middle;\n",
       "    }\n",
       "\n",
       "    .dataframe tbody tr th {\n",
       "        vertical-align: top;\n",
       "    }\n",
       "\n",
       "    .dataframe thead th {\n",
       "        text-align: right;\n",
       "    }\n",
       "</style>\n",
       "<table border=\"1\" class=\"dataframe\">\n",
       "  <thead>\n",
       "    <tr style=\"text-align: right;\">\n",
       "      <th></th>\n",
       "      <th>Pclass</th>\n",
       "      <th>Sex</th>\n",
       "      <th>Age</th>\n",
       "      <th>SibSp</th>\n",
       "      <th>Parch</th>\n",
       "      <th>Ticket</th>\n",
       "      <th>Fare</th>\n",
       "      <th>Embarked</th>\n",
       "    </tr>\n",
       "  </thead>\n",
       "  <tbody>\n",
       "    <tr>\n",
       "      <th>0</th>\n",
       "      <td>0.826913</td>\n",
       "      <td>0.737281</td>\n",
       "      <td>-0.594398</td>\n",
       "      <td>0.432550</td>\n",
       "      <td>-0.473408</td>\n",
       "      <td>-1.555405</td>\n",
       "      <td>-0.502163</td>\n",
       "      <td>-0.568445</td>\n",
       "    </tr>\n",
       "    <tr>\n",
       "      <th>1</th>\n",
       "      <td>-1.565228</td>\n",
       "      <td>-1.354813</td>\n",
       "      <td>0.634962</td>\n",
       "      <td>0.432550</td>\n",
       "      <td>-0.473408</td>\n",
       "      <td>-1.550336</td>\n",
       "      <td>0.786404</td>\n",
       "      <td>0.975715</td>\n",
       "    </tr>\n",
       "    <tr>\n",
       "      <th>2</th>\n",
       "      <td>0.826913</td>\n",
       "      <td>-1.354813</td>\n",
       "      <td>-0.287058</td>\n",
       "      <td>-0.474279</td>\n",
       "      <td>-0.473408</td>\n",
       "      <td>-1.545267</td>\n",
       "      <td>-0.488580</td>\n",
       "      <td>-0.568445</td>\n",
       "    </tr>\n",
       "    <tr>\n",
       "      <th>3</th>\n",
       "      <td>-1.565228</td>\n",
       "      <td>-1.354813</td>\n",
       "      <td>0.404457</td>\n",
       "      <td>0.432550</td>\n",
       "      <td>-0.473408</td>\n",
       "      <td>-1.540199</td>\n",
       "      <td>0.420494</td>\n",
       "      <td>-0.568445</td>\n",
       "    </tr>\n",
       "    <tr>\n",
       "      <th>4</th>\n",
       "      <td>0.826913</td>\n",
       "      <td>0.737281</td>\n",
       "      <td>0.404457</td>\n",
       "      <td>-0.474279</td>\n",
       "      <td>-0.473408</td>\n",
       "      <td>-1.535130</td>\n",
       "      <td>-0.486064</td>\n",
       "      <td>-0.568445</td>\n",
       "    </tr>\n",
       "  </tbody>\n",
       "</table>\n",
       "</div>"
      ],
      "text/plain": [
       "     Pclass       Sex       Age     SibSp     Parch    Ticket      Fare  \\\n",
       "0  0.826913  0.737281 -0.594398  0.432550 -0.473408 -1.555405 -0.502163   \n",
       "1 -1.565228 -1.354813  0.634962  0.432550 -0.473408 -1.550336  0.786404   \n",
       "2  0.826913 -1.354813 -0.287058 -0.474279 -0.473408 -1.545267 -0.488580   \n",
       "3 -1.565228 -1.354813  0.404457  0.432550 -0.473408 -1.540199  0.420494   \n",
       "4  0.826913  0.737281  0.404457 -0.474279 -0.473408 -1.535130 -0.486064   \n",
       "\n",
       "   Embarked  \n",
       "0 -0.568445  \n",
       "1  0.975715  \n",
       "2 -0.568445  \n",
       "3 -0.568445  \n",
       "4 -0.568445  "
      ]
     },
     "execution_count": 3,
     "metadata": {},
     "output_type": "execute_result"
    }
   ],
   "source": [
    "train_data_ori.head()"
   ]
  },
  {
   "cell_type": "code",
   "execution_count": 4,
   "metadata": {},
   "outputs": [
    {
     "data": {
      "text/plain": [
       "array([0, 1, 1, 1, 0])"
      ]
     },
     "execution_count": 4,
     "metadata": {},
     "output_type": "execute_result"
    }
   ],
   "source": [
    "train_label_ori[:5]"
   ]
  },
  {
   "cell_type": "code",
   "execution_count": 5,
   "metadata": {},
   "outputs": [],
   "source": [
    "def bootstrapping(data, label, ratio=0.3):\n",
    "    train_data = pd.DataFrame()\n",
    "    train_label = []\n",
    "    test_data = pd.DataFrame()\n",
    "    test_label = []\n",
    "    data_length = len(data)\n",
    "    threshold = np.log(ratio) / (data_length * np.log(1 - 1 / data_length))\n",
    "    iter_times = int(data_length * threshold)\n",
    "    boot_set = set([np.random.randint(0, data_length) for i in range(iter_times)])\n",
    "    boot_set_diff = set(range(data_length)).difference(boot_set)\n",
    "    l_bs = list(boot_set)\n",
    "    l_bs_d = list(boot_set_diff)\n",
    "    train_data = data.iloc[l_bs]\n",
    "    test_data = data.iloc[l_bs_d]\n",
    "    train_label = label[l_bs]\n",
    "    test_label = label[l_bs_d]\n",
    "    return train_data, train_label, test_data, test_label"
   ]
  },
  {
   "cell_type": "code",
   "execution_count": 13,
   "metadata": {},
   "outputs": [],
   "source": [
    "train_data, train_label, test_data, test_label = bootstrapping(train_data_ori, train_label_ori, ratio=0.32)"
   ]
  },
  {
   "cell_type": "code",
   "execution_count": 14,
   "metadata": {},
   "outputs": [
    {
     "name": "stdout",
     "output_type": "stream",
     "text": [
      "0.6801346801346801\n",
      "0.6801346801346801\n",
      "0.31986531986531985\n",
      "0.31986531986531985\n"
     ]
    }
   ],
   "source": [
    "for i in [train_data, train_label, test_data, test_label]:\n",
    "    print(len(i) / len(train_data_ori))"
   ]
  },
  {
   "cell_type": "code",
   "execution_count": null,
   "metadata": {},
   "outputs": [],
   "source": []
  }
 ],
 "metadata": {
  "kernelspec": {
   "display_name": "Python 3",
   "language": "python",
   "name": "python3"
  },
  "language_info": {
   "codemirror_mode": {
    "name": "ipython",
    "version": 3
   },
   "file_extension": ".py",
   "mimetype": "text/x-python",
   "name": "python",
   "nbconvert_exporter": "python",
   "pygments_lexer": "ipython3",
   "version": "3.6.4"
  }
 },
 "nbformat": 4,
 "nbformat_minor": 2
}
